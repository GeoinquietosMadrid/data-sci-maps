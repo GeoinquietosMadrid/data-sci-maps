{
  "nbformat": 4,
  "nbformat_minor": 0,
  "metadata": {
    "colab": {
      "name": "osm2cartoframes.ipynb",
      "version": "0.3.2",
      "views": {},
      "default_view": {},
      "provenance": []
    },
    "kernelspec": {
      "name": "python3",
      "display_name": "Python 3"
    }
  },
  "cells": [
    {
      "metadata": {
        "id": "yMbRctSskxcn",
        "colab_type": "text"
      },
      "cell_type": "markdown",
      "source": [
        "### Install required libraries"
      ]
    },
    {
      "metadata": {
        "id": "Mx7wTSAjgknl",
        "colab_type": "code",
        "colab": {
          "autoexec": {
            "startup": false,
            "wait_interval": 0
          },
          "base_uri": "https://localhost:8080/",
          "height": 1156
        },
        "outputId": "c07d6241-7727-488b-e819-06bf4ed44889",
        "executionInfo": {
          "status": "ok",
          "timestamp": 1527773247840,
          "user_tz": -120,
          "elapsed": 15742,
          "user": {
            "displayName": "Ramiro Aznar Ballarin",
            "photoUrl": "//lh6.googleusercontent.com/-ieW6yWlqTQs/AAAAAAAAAAI/AAAAAAAAAAo/dDNG9ZEfhPI/s50-c-k-no/photo.jpg",
            "userId": "105196993695220497651"
          }
        }
      },
      "cell_type": "code",
      "source": [
        "!pip install cartoframes"
      ],
      "execution_count": 1,
      "outputs": [
        {
          "output_type": "stream",
          "text": [
            "Collecting cartoframes\n",
            "\u001b[?25l  Downloading https://files.pythonhosted.org/packages/ee/84/5c7eca8bb03940fa31e3acec58cabecee6d0d5d55cc2622087c080b9c121/cartoframes-0.6.2-py2.py3-none-any.whl (46kB)\n",
            "\u001b[K    100% |████████████████████████████████| 51kB 2.0MB/s \n",
            "\u001b[?25hCollecting webcolors>=1.7.0 (from cartoframes)\n",
            "  Downloading https://files.pythonhosted.org/packages/1d/44/c4902683be73beba20afd299705e11f0a753a01cc7f9d6a070841848605b/webcolors-1.8.1-py2.py3-none-any.whl\n",
            "Collecting appdirs>=1.4.3 (from cartoframes)\n",
            "  Downloading https://files.pythonhosted.org/packages/56/eb/810e700ed1349edde4cbdc1b2a21e28cdf115f9faf263f6bbf8447c1abf3/appdirs-1.4.3-py2.py3-none-any.whl\n",
            "Collecting IPython>=6.0.0; python_version == \"3.6\" (from cartoframes)\n",
            "\u001b[?25l  Downloading https://files.pythonhosted.org/packages/b1/7f/91d50f28af3e3a24342561983a7857e399ce24093876e6970b986a0b6677/ipython-6.4.0-py3-none-any.whl (750kB)\n",
            "\u001b[K    100% |████████████████████████████████| 757kB 4.1MB/s \n",
            "\u001b[?25hCollecting tqdm!=4.18.0,>=4.14.0 (from cartoframes)\n",
            "\u001b[?25l  Downloading https://files.pythonhosted.org/packages/93/24/6ab1df969db228aed36a648a8959d1027099ce45fad67532b9673d533318/tqdm-4.23.4-py2.py3-none-any.whl (42kB)\n",
            "\u001b[K    100% |████████████████████████████████| 51kB 12.7MB/s \n",
            "\u001b[?25hRequirement already satisfied: pandas>=0.20.1 in /usr/local/lib/python3.6/dist-packages (from cartoframes) (0.22.0)\n",
            "Collecting carto>=1.1.0 (from cartoframes)\n",
            "  Downloading https://files.pythonhosted.org/packages/3d/42/3a5eb872271ce56f12d70faae9ac1ba629b932c25c9bf80a9dd3a77ac459/carto-1.2.2.tar.gz\n",
            "Requirement already satisfied: pexpect; sys_platform != \"win32\" in /usr/local/lib/python3.6/dist-packages (from IPython>=6.0.0; python_version == \"3.6\"->cartoframes) (4.5.0)\n",
            "Requirement already satisfied: traitlets>=4.2 in /usr/local/lib/python3.6/dist-packages (from IPython>=6.0.0; python_version == \"3.6\"->cartoframes) (4.3.2)\n",
            "Requirement already satisfied: pickleshare in /usr/local/lib/python3.6/dist-packages (from IPython>=6.0.0; python_version == \"3.6\"->cartoframes) (0.7.4)\n",
            "Requirement already satisfied: simplegeneric>0.8 in /usr/local/lib/python3.6/dist-packages (from IPython>=6.0.0; python_version == \"3.6\"->cartoframes) (0.8.1)\n",
            "Collecting backcall (from IPython>=6.0.0; python_version == \"3.6\"->cartoframes)\n",
            "  Downloading https://files.pythonhosted.org/packages/84/71/c8ca4f5bb1e08401b916c68003acf0a0655df935d74d93bf3f3364b310e0/backcall-0.1.0.tar.gz\n",
            "Requirement already satisfied: prompt-toolkit<2.0.0,>=1.0.15 in /usr/local/lib/python3.6/dist-packages (from IPython>=6.0.0; python_version == \"3.6\"->cartoframes) (1.0.15)\n",
            "Requirement already satisfied: setuptools>=18.5 in /usr/local/lib/python3.6/dist-packages (from IPython>=6.0.0; python_version == \"3.6\"->cartoframes) (39.2.0)\n",
            "Requirement already satisfied: decorator in /usr/local/lib/python3.6/dist-packages (from IPython>=6.0.0; python_version == \"3.6\"->cartoframes) (4.3.0)\n",
            "Requirement already satisfied: pygments in /usr/local/lib/python3.6/dist-packages (from IPython>=6.0.0; python_version == \"3.6\"->cartoframes) (2.1.3)\n",
            "Collecting jedi>=0.10 (from IPython>=6.0.0; python_version == \"3.6\"->cartoframes)\n",
            "\u001b[?25l  Downloading https://files.pythonhosted.org/packages/e7/42/074192a165622e645ed4aeade63e76e56b3496a044569b3c6cae3a918352/jedi-0.12.0-py2.py3-none-any.whl (172kB)\n",
            "\u001b[K    100% |████████████████████████████████| 174kB 5.6MB/s \n",
            "\u001b[?25hRequirement already satisfied: python-dateutil>=2 in /usr/local/lib/python3.6/dist-packages (from pandas>=0.20.1->cartoframes) (2.5.3)\n",
            "Requirement already satisfied: pytz>=2011k in /usr/local/lib/python3.6/dist-packages (from pandas>=0.20.1->cartoframes) (2018.4)\n",
            "Requirement already satisfied: numpy>=1.9.0 in /usr/local/lib/python3.6/dist-packages (from pandas>=0.20.1->cartoframes) (1.14.3)\n",
            "Requirement already satisfied: requests>=2.7.0 in /usr/local/lib/python3.6/dist-packages (from carto>=1.1.0->cartoframes) (2.18.4)\n",
            "Collecting pyrestcli>=0.6.4 (from carto>=1.1.0->cartoframes)\n",
            "  Downloading https://files.pythonhosted.org/packages/0e/39/9ea0f71cf20410fab4a7d8882677e4b34bdd7590a7752abde805110f9bf2/pyrestcli-0.6.5.tar.gz\n",
            "Requirement already satisfied: ptyprocess>=0.5 in /usr/local/lib/python3.6/dist-packages (from pexpect; sys_platform != \"win32\"->IPython>=6.0.0; python_version == \"3.6\"->cartoframes) (0.5.2)\n",
            "Requirement already satisfied: six in /usr/local/lib/python3.6/dist-packages (from traitlets>=4.2->IPython>=6.0.0; python_version == \"3.6\"->cartoframes) (1.11.0)\n",
            "Requirement already satisfied: ipython-genutils in /usr/local/lib/python3.6/dist-packages (from traitlets>=4.2->IPython>=6.0.0; python_version == \"3.6\"->cartoframes) (0.2.0)\n",
            "Requirement already satisfied: wcwidth in /usr/local/lib/python3.6/dist-packages (from prompt-toolkit<2.0.0,>=1.0.15->IPython>=6.0.0; python_version == \"3.6\"->cartoframes) (0.1.7)\n",
            "Collecting parso>=0.2.0 (from jedi>=0.10->IPython>=6.0.0; python_version == \"3.6\"->cartoframes)\n",
            "\u001b[?25l  Downloading https://files.pythonhosted.org/packages/cd/3e/5908f9577dbd1e5df53e64349bfd11e46b726c1e4d8cd676bbe8aa4de316/parso-0.2.1-py2.py3-none-any.whl (91kB)\n",
            "\u001b[K    100% |████████████████████████████████| 92kB 9.7MB/s \n",
            "\u001b[?25hRequirement already satisfied: urllib3<1.23,>=1.21.1 in /usr/local/lib/python3.6/dist-packages (from requests>=2.7.0->carto>=1.1.0->cartoframes) (1.22)\n",
            "Requirement already satisfied: chardet<3.1.0,>=3.0.2 in /usr/local/lib/python3.6/dist-packages (from requests>=2.7.0->carto>=1.1.0->cartoframes) (3.0.4)\n",
            "Requirement already satisfied: idna<2.7,>=2.5 in /usr/local/lib/python3.6/dist-packages (from requests>=2.7.0->carto>=1.1.0->cartoframes) (2.6)\n",
            "Requirement already satisfied: certifi>=2017.4.17 in /usr/local/lib/python3.6/dist-packages (from requests>=2.7.0->carto>=1.1.0->cartoframes) (2018.4.16)\n",
            "Collecting future==0.15.2 (from pyrestcli>=0.6.4->carto>=1.1.0->cartoframes)\n",
            "\u001b[?25l  Downloading https://files.pythonhosted.org/packages/5a/f4/99abde815842bc6e97d5a7806ad51236630da14ca2f3b1fce94c0bb94d3d/future-0.15.2.tar.gz (1.6MB)\n",
            "\u001b[K    100% |████████████████████████████████| 1.6MB 5.4MB/s \n",
            "\u001b[?25hBuilding wheels for collected packages: carto, backcall, pyrestcli, future\n"
          ],
          "name": "stdout"
        },
        {
          "output_type": "stream",
          "text": [
            "  Running setup.py bdist_wheel for carto ... \u001b[?25l-\b \bdone\n",
            "\u001b[?25h  Stored in directory: /content/.cache/pip/wheels/94/d3/27/40abad77cd427d38e4896aec17644470469145ddb7bec26638\n",
            "  Running setup.py bdist_wheel for backcall ... \u001b[?25l-\b \bdone\n",
            "\u001b[?25h  Stored in directory: /content/.cache/pip/wheels/98/b0/dd/29e28ff615af3dda4c67cab719dd51357597eabff926976b45\n",
            "  Running setup.py bdist_wheel for pyrestcli ... \u001b[?25l-\b \bdone\n",
            "\u001b[?25h  Stored in directory: /content/.cache/pip/wheels/a9/ef/96/c501e9531e92740de3eeb92ae8f865d0cfae6cae16cd33ba6f\n",
            "  Running setup.py bdist_wheel for future ... \u001b[?25l-\b \b\\\b \b|\b \b/\b \b-\b \bdone\n",
            "\u001b[?25h  Stored in directory: /content/.cache/pip/wheels/11/25/4b/f1c5582c5dc7ace5998bced1042cdf6bfe03983a10ed3f2f2e\n",
            "Successfully built carto backcall pyrestcli future\n",
            "Installing collected packages: webcolors, appdirs, backcall, parso, jedi, IPython, tqdm, future, pyrestcli, carto, cartoframes\n",
            "  Found existing installation: ipython 5.5.0\n",
            "    Uninstalling ipython-5.5.0:\n",
            "      Successfully uninstalled ipython-5.5.0\n",
            "  Found existing installation: future 0.16.0\n",
            "    Uninstalling future-0.16.0:\n",
            "      Successfully uninstalled future-0.16.0\n",
            "Successfully installed IPython-6.4.0 appdirs-1.4.3 backcall-0.1.0 carto-1.2.2 cartoframes-0.6.2 future-0.15.2 jedi-0.12.0 parso-0.2.1 pyrestcli-0.6.5 tqdm-4.23.4 webcolors-1.8.1\n"
          ],
          "name": "stdout"
        }
      ]
    },
    {
      "metadata": {
        "id": "0KXDCKsfoihm",
        "colab_type": "text"
      },
      "cell_type": "markdown",
      "source": [
        "### Configuration\n",
        "\n",
        "When you run the follownig cell it appears a button to upload a file with your CARTO credentials. The file needs to have the following structure:\n",
        "\n",
        "\n",
        "```\n",
        "[CARTO]\n",
        "user_name = YOUR_USER_NAME\n",
        "api_key = YOUR_API_KEY\n",
        "\n",
        "```\n",
        "\n",
        "After uploading the file you can continue running the rest of the cells as usual."
      ]
    },
    {
      "metadata": {
        "id": "fXbqW1D8ol6H",
        "colab_type": "code",
        "colab": {
          "autoexec": {
            "startup": false,
            "wait_interval": 0
          },
          "resources": {
            "http://localhost:8080/nbextensions/google.colab/files.js": {
              "data": "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",
              "ok": true,
              "headers": [
                [
                  "content-type",
                  "application/javascript"
                ]
              ],
              "status": 200,
              "status_text": ""
            }
          },
          "base_uri": "https://localhost:8080/",
          "height": 72
        },
        "outputId": "89c039bf-a1fc-4978-ecda-c5415c138a78",
        "executionInfo": {
          "status": "ok",
          "timestamp": 1527773458227,
          "user_tz": -120,
          "elapsed": 6593,
          "user": {
            "displayName": "Ramiro Aznar Ballarin",
            "photoUrl": "//lh6.googleusercontent.com/-ieW6yWlqTQs/AAAAAAAAAAI/AAAAAAAAAAo/dDNG9ZEfhPI/s50-c-k-no/photo.jpg",
            "userId": "105196993695220497651"
          }
        }
      },
      "cell_type": "code",
      "source": [
        "from google.colab import files\n",
        "uploaded = files.upload()"
      ],
      "execution_count": 2,
      "outputs": [
        {
          "output_type": "display_data",
          "data": {
            "text/html": [
              "\n",
              "     <input type=\"file\" id=\"files-e3b76d02-0d76-4d78-8b71-42f108566e04\" name=\"files[]\" multiple disabled />\n",
              "     <output id=\"result-e3b76d02-0d76-4d78-8b71-42f108566e04\">\n",
              "      Upload widget is only available when the cell has been executed in the\n",
              "      current browser session. Please rerun this cell to enable.\n",
              "      </output>\n",
              "      <script src=\"/nbextensions/google.colab/files.js\"></script> "
            ],
            "text/plain": [
              "<IPython.core.display.HTML object>"
            ]
          },
          "metadata": {
            "tags": []
          }
        },
        {
          "output_type": "stream",
          "text": [
            "Saving ramiro.conf to ramiro.conf\n"
          ],
          "name": "stdout"
        }
      ]
    },
    {
      "metadata": {
        "id": "whEydSzKoy-A",
        "colab_type": "code",
        "colab": {
          "autoexec": {
            "startup": false,
            "wait_interval": 0
          },
          "base_uri": "https://localhost:8080/",
          "height": 34
        },
        "outputId": "0549573b-a166-40f0-ec0a-a174f3d87957",
        "executionInfo": {
          "status": "ok",
          "timestamp": 1527773458828,
          "user_tz": -120,
          "elapsed": 560,
          "user": {
            "displayName": "Ramiro Aznar Ballarin",
            "photoUrl": "//lh6.googleusercontent.com/-ieW6yWlqTQs/AAAAAAAAAAI/AAAAAAAAAAo/dDNG9ZEfhPI/s50-c-k-no/photo.jpg",
            "userId": "105196993695220497651"
          }
        }
      },
      "cell_type": "code",
      "source": [
        "import configparser\n",
        "config_filename = uploaded[next(iter(uploaded.keys()))]\n",
        "config = configparser.ConfigParser(allow_no_value=True)\n",
        "config.read_string(config_filename.decode('utf-8'))\n",
        "args = config['CARTO']\n",
        "\n",
        "print(\"Working with CARTO user {}.\".format(args['user_name']))"
      ],
      "execution_count": 3,
      "outputs": [
        {
          "output_type": "stream",
          "text": [
            "Working with CARTO user ramirocartodb.\n"
          ],
          "name": "stdout"
        }
      ]
    },
    {
      "metadata": {
        "id": "sc3PMRkmt1VP",
        "colab_type": "text"
      },
      "cell_type": "markdown",
      "source": [
        "### Set CARTO credentials"
      ]
    },
    {
      "metadata": {
        "id": "2ZkrUA26pLMr",
        "colab_type": "code",
        "colab": {
          "autoexec": {
            "startup": false,
            "wait_interval": 0
          }
        }
      },
      "cell_type": "code",
      "source": [
        "import csv\n",
        "import pandas as pd\n",
        "import cartoframes\n",
        "from cartoframes import Credentials\n",
        "\n",
        "USERNAME = args['user_name']\n",
        "APIKEY = args['api_key']\n",
        "creds = Credentials(username=USERNAME, \n",
        "                    key=APIKEY)\n",
        "cc = cartoframes.CartoContext(creds=creds)"
      ],
      "execution_count": 0,
      "outputs": []
    },
    {
      "metadata": {
        "id": "RYhkY2yCuSso",
        "colab_type": "text"
      },
      "cell_type": "markdown",
      "source": [
        "### Get OSM pois\n",
        "\n",
        "Example of POIs filtered by city using Overpass QL\n",
        "\n",
        "\n",
        "```\n",
        "[out:json][timeout:300];\n",
        "area[name=\"Madrid\"];\n",
        "(\n",
        "  node[\"amenity\"=\"pharmacy\"](area);\n",
        ");\n",
        "out body;\n",
        ">;\n",
        "out skel qt;\n",
        "```\n",
        "\n",
        "![osm-pois](URL)"
      ]
    },
    {
      "metadata": {
        "id": "Fx3_8ujLt-po",
        "colab_type": "code",
        "colab": {
          "autoexec": {
            "startup": false,
            "wait_interval": 0
          }
        }
      },
      "cell_type": "code",
      "source": [
        "import logging\n",
        "import json\n",
        "import requests\n",
        "import csv\n",
        "from pathlib import Path"
      ],
      "execution_count": 0,
      "outputs": []
    },
    {
      "metadata": {
        "id": "iHQkSNlM-prO",
        "colab_type": "text"
      },
      "cell_type": "markdown",
      "source": [
        "#### Download OSM data"
      ]
    },
    {
      "metadata": {
        "id": "K4slVod9VDQJ",
        "colab_type": "code",
        "colab": {
          "autoexec": {
            "startup": false,
            "wait_interval": 0
          }
        }
      },
      "cell_type": "code",
      "source": [
        "### set varuables\n",
        "\n",
        "city  = \"Madrid\"\n",
        "type  = \"amenity\"\n",
        "value = \"pharmacy\""
      ],
      "execution_count": 0,
      "outputs": []
    },
    {
      "metadata": {
        "id": "OIlhCLdw-n51",
        "colab_type": "code",
        "colab": {
          "autoexec": {
            "startup": false,
            "wait_interval": 0
          }
        }
      },
      "cell_type": "code",
      "source": [
        "### get OSM data as JSON\n",
        "\n",
        "logger = logging.getLogger(__name__)\n",
        "logger.info('Downloading from OSM [{}/{}/{}]...'.format(city,type,value))\n",
        "base_url = 'https://overpass-api.de/api/interpreter'\n",
        "query ='''\n",
        "    [out:json][timeout:300];\n",
        "    area[name=\"{city}\"];\n",
        "    node(area)[\"{type}\"=\"{value}\"];out qt;\n",
        "    '''\n",
        "\n",
        "data = query.format( city = city, type = type, value = value )\n",
        "\n",
        "r = requests.get(base_url,params = {'data' : data })\n",
        "if r.status_code != 200:\n",
        "  raise ValueError('Invalid request to OSM Overpass API for {}/{}/{}'.format(city, type, value))\n",
        "else:\n",
        "  json_data = r.json()"
      ],
      "execution_count": 0,
      "outputs": []
    },
    {
      "metadata": {
        "id": "v6xzjr6IVW-A",
        "colab_type": "code",
        "colab": {
          "autoexec": {
            "startup": false,
            "wait_interval": 0
          },
          "base_uri": "https://localhost:8080/",
          "height": 34
        },
        "outputId": "bad408b1-fe31-484d-e83c-4705c8f84b3a",
        "executionInfo": {
          "status": "ok",
          "timestamp": 1527773468585,
          "user_tz": -120,
          "elapsed": 544,
          "user": {
            "displayName": "Ramiro Aznar Ballarin",
            "photoUrl": "//lh6.googleusercontent.com/-ieW6yWlqTQs/AAAAAAAAAAI/AAAAAAAAAAo/dDNG9ZEfhPI/s50-c-k-no/photo.jpg",
            "userId": "105196993695220497651"
          }
        }
      },
      "cell_type": "code",
      "source": [
        "### convert JSON to a list and print the total number of rows processed\n",
        "\n",
        "rows = []\n",
        "\n",
        "for row in json_data['elements']:\n",
        "    result = {}\n",
        "    if 'lat' in row and 'lon' in row:\n",
        "        result['lat'] = row['lat']\n",
        "        result['lon'] = row['lon']\n",
        "\n",
        "        if 'id' in row:\n",
        "            result['id'] = row['id']\n",
        "\n",
        "        if 'tags' in row:\n",
        "            if  'name' in row['tags']:\n",
        "              result['name'] = row['tags']['name']\n",
        "              if 'wheelchair' in row['tags']:\n",
        "                result['wheelchair'] = row['tags']['wheelchair']\n",
        "\n",
        "        rows.append(result)\n",
        "        \n",
        "print('{} rows processed'.format(len(rows)))"
      ],
      "execution_count": 8,
      "outputs": [
        {
          "output_type": "stream",
          "text": [
            "1786 rows processed\n"
          ],
          "name": "stdout"
        }
      ]
    },
    {
      "metadata": {
        "id": "XfQN2IKNW_o4",
        "colab_type": "code",
        "colab": {
          "autoexec": {
            "startup": false,
            "wait_interval": 0
          }
        }
      },
      "cell_type": "code",
      "source": [
        "### write rows in a csv file\n",
        "\n",
        "with open('pois.csv','w',newline='') as csvfile:\n",
        "  fieldnames = ['id','lat','lon','name','wheelchair']\n",
        "  writer = csv.DictWriter(csvfile, fieldnames=fieldnames)\n",
        "  writer.writeheader()\n",
        "  writer.writerows(rows)"
      ],
      "execution_count": 0,
      "outputs": []
    },
    {
      "metadata": {
        "id": "bjM0HM66cCjp",
        "colab_type": "text"
      },
      "cell_type": "markdown",
      "source": [
        "### Pandas"
      ]
    },
    {
      "metadata": {
        "id": "alrJyXWuXZy9",
        "colab_type": "code",
        "colab": {
          "autoexec": {
            "startup": false,
            "wait_interval": 0
          },
          "base_uri": "https://localhost:8080/",
          "height": 204
        },
        "outputId": "a913d227-7054-488d-9864-9fb6570303ec",
        "executionInfo": {
          "status": "ok",
          "timestamp": 1527773470005,
          "user_tz": -120,
          "elapsed": 453,
          "user": {
            "displayName": "Ramiro Aznar Ballarin",
            "photoUrl": "//lh6.googleusercontent.com/-ieW6yWlqTQs/AAAAAAAAAAI/AAAAAAAAAAo/dDNG9ZEfhPI/s50-c-k-no/photo.jpg",
            "userId": "105196993695220497651"
          }
        }
      },
      "cell_type": "code",
      "source": [
        "### convert csv in a pandas dataframe\n",
        "\n",
        "df = pd.read_csv('pois.csv')\n",
        "\n",
        "### show first rows\n",
        "df.head()"
      ],
      "execution_count": 10,
      "outputs": [
        {
          "output_type": "execute_result",
          "data": {
            "text/html": [
              "<div>\n",
              "<style scoped>\n",
              "    .dataframe tbody tr th:only-of-type {\n",
              "        vertical-align: middle;\n",
              "    }\n",
              "\n",
              "    .dataframe tbody tr th {\n",
              "        vertical-align: top;\n",
              "    }\n",
              "\n",
              "    .dataframe thead th {\n",
              "        text-align: right;\n",
              "    }\n",
              "</style>\n",
              "<table border=\"1\" class=\"dataframe\">\n",
              "  <thead>\n",
              "    <tr style=\"text-align: right;\">\n",
              "      <th></th>\n",
              "      <th>id</th>\n",
              "      <th>lat</th>\n",
              "      <th>lon</th>\n",
              "      <th>name</th>\n",
              "      <th>wheelchair</th>\n",
              "    </tr>\n",
              "  </thead>\n",
              "  <tbody>\n",
              "    <tr>\n",
              "      <th>0</th>\n",
              "      <td>3223656506</td>\n",
              "      <td>40.379016</td>\n",
              "      <td>-3.792758</td>\n",
              "      <td>Farmacia - Paseo de Lanceros 2</td>\n",
              "      <td>NaN</td>\n",
              "    </tr>\n",
              "    <tr>\n",
              "      <th>1</th>\n",
              "      <td>3223656495</td>\n",
              "      <td>40.379927</td>\n",
              "      <td>-3.781567</td>\n",
              "      <td>Farmacia - Calle Mirabel 45</td>\n",
              "      <td>NaN</td>\n",
              "    </tr>\n",
              "    <tr>\n",
              "      <th>2</th>\n",
              "      <td>3226797176</td>\n",
              "      <td>40.378108</td>\n",
              "      <td>-3.781623</td>\n",
              "      <td>Farmacia - Calle Serradilla 10</td>\n",
              "      <td>NaN</td>\n",
              "    </tr>\n",
              "    <tr>\n",
              "      <th>3</th>\n",
              "      <td>3223656481</td>\n",
              "      <td>40.379808</td>\n",
              "      <td>-3.778767</td>\n",
              "      <td>Farmacia - Calle Garrovillas 6</td>\n",
              "      <td>NaN</td>\n",
              "    </tr>\n",
              "    <tr>\n",
              "      <th>4</th>\n",
              "      <td>3226796547</td>\n",
              "      <td>40.377619</td>\n",
              "      <td>-3.776078</td>\n",
              "      <td>Farmacia - Calle Aldeanueva de La Vera 19</td>\n",
              "      <td>NaN</td>\n",
              "    </tr>\n",
              "  </tbody>\n",
              "</table>\n",
              "</div>"
            ],
            "text/plain": [
              "           id        lat       lon                                       name  \\\n",
              "0  3223656506  40.379016 -3.792758             Farmacia - Paseo de Lanceros 2   \n",
              "1  3223656495  40.379927 -3.781567                Farmacia - Calle Mirabel 45   \n",
              "2  3226797176  40.378108 -3.781623             Farmacia - Calle Serradilla 10   \n",
              "3  3223656481  40.379808 -3.778767             Farmacia - Calle Garrovillas 6   \n",
              "4  3226796547  40.377619 -3.776078  Farmacia - Calle Aldeanueva de La Vera 19   \n",
              "\n",
              "  wheelchair  \n",
              "0        NaN  \n",
              "1        NaN  \n",
              "2        NaN  \n",
              "3        NaN  \n",
              "4        NaN  "
            ]
          },
          "metadata": {
            "tags": []
          },
          "execution_count": 10
        }
      ]
    },
    {
      "metadata": {
        "id": "e0HeM2MEte-a",
        "colab_type": "code",
        "colab": {
          "autoexec": {
            "startup": false,
            "wait_interval": 0
          },
          "base_uri": "https://localhost:8080/",
          "height": 34
        },
        "outputId": "3b7cc32d-ab9b-4b31-9e87-25b31aabac83",
        "executionInfo": {
          "status": "ok",
          "timestamp": 1527773470670,
          "user_tz": -120,
          "elapsed": 474,
          "user": {
            "displayName": "Ramiro Aznar Ballarin",
            "photoUrl": "//lh6.googleusercontent.com/-ieW6yWlqTQs/AAAAAAAAAAI/AAAAAAAAAAo/dDNG9ZEfhPI/s50-c-k-no/photo.jpg",
            "userId": "105196993695220497651"
          }
        }
      },
      "cell_type": "code",
      "source": [
        "### print the df length\n",
        "\n",
        "len(df)"
      ],
      "execution_count": 11,
      "outputs": [
        {
          "output_type": "execute_result",
          "data": {
            "text/plain": [
              "1786"
            ]
          },
          "metadata": {
            "tags": []
          },
          "execution_count": 11
        }
      ]
    },
    {
      "metadata": {
        "id": "gBqHYyQ5wyWZ",
        "colab_type": "code",
        "colab": {
          "autoexec": {
            "startup": false,
            "wait_interval": 0
          },
          "base_uri": "https://localhost:8080/",
          "height": 119
        },
        "outputId": "0b94f5f8-1b49-4da1-b193-830631a547c5",
        "executionInfo": {
          "status": "ok",
          "timestamp": 1527773471456,
          "user_tz": -120,
          "elapsed": 446,
          "user": {
            "displayName": "Ramiro Aznar Ballarin",
            "photoUrl": "//lh6.googleusercontent.com/-ieW6yWlqTQs/AAAAAAAAAAI/AAAAAAAAAAo/dDNG9ZEfhPI/s50-c-k-no/photo.jpg",
            "userId": "105196993695220497651"
          }
        }
      },
      "cell_type": "code",
      "source": [
        "### count number of non-empty/null values per column\n",
        "\n",
        "df.count()"
      ],
      "execution_count": 12,
      "outputs": [
        {
          "output_type": "execute_result",
          "data": {
            "text/plain": [
              "id            1786\n",
              "lat           1786\n",
              "lon           1786\n",
              "name          1723\n",
              "wheelchair      69\n",
              "dtype: int64"
            ]
          },
          "metadata": {
            "tags": []
          },
          "execution_count": 12
        }
      ]
    },
    {
      "metadata": {
        "id": "kcbPJNQaqfwD",
        "colab_type": "code",
        "colab": {
          "autoexec": {
            "startup": false,
            "wait_interval": 0
          },
          "base_uri": "https://localhost:8080/",
          "height": 85
        },
        "outputId": "5c18b988-6f71-4906-a4d3-d0a8cb58157c",
        "executionInfo": {
          "status": "ok",
          "timestamp": 1527773472083,
          "user_tz": -120,
          "elapsed": 460,
          "user": {
            "displayName": "Ramiro Aznar Ballarin",
            "photoUrl": "//lh6.googleusercontent.com/-ieW6yWlqTQs/AAAAAAAAAAI/AAAAAAAAAAo/dDNG9ZEfhPI/s50-c-k-no/photo.jpg",
            "userId": "105196993695220497651"
          }
        }
      },
      "cell_type": "code",
      "source": [
        "### count number of values per category in wheelchair column\n",
        "\n",
        "df['wheelchair'].value_counts()"
      ],
      "execution_count": 13,
      "outputs": [
        {
          "output_type": "execute_result",
          "data": {
            "text/plain": [
              "yes        33\n",
              "no         23\n",
              "limited    13\n",
              "Name: wheelchair, dtype: int64"
            ]
          },
          "metadata": {
            "tags": []
          },
          "execution_count": 13
        }
      ]
    },
    {
      "metadata": {
        "id": "Nke4BWSTtrRK",
        "colab_type": "code",
        "colab": {
          "autoexec": {
            "startup": false,
            "wait_interval": 0
          },
          "base_uri": "https://localhost:8080/",
          "height": 383
        },
        "outputId": "a98e0614-e2cf-4372-f728-2f8fa25a1175",
        "executionInfo": {
          "status": "ok",
          "timestamp": 1527773472705,
          "user_tz": -120,
          "elapsed": 486,
          "user": {
            "displayName": "Ramiro Aznar Ballarin",
            "photoUrl": "//lh6.googleusercontent.com/-ieW6yWlqTQs/AAAAAAAAAAI/AAAAAAAAAAo/dDNG9ZEfhPI/s50-c-k-no/photo.jpg",
            "userId": "105196993695220497651"
          }
        }
      },
      "cell_type": "code",
      "source": [
        "### plot wheelchair histogram\n",
        "\n",
        "df['wheelchair'].value_counts().plot(kind=\"bar\", color=['#11A579', '#3969AC', '#F2B701'])"
      ],
      "execution_count": 14,
      "outputs": [
        {
          "output_type": "execute_result",
          "data": {
            "text/plain": [
              "<matplotlib.axes._subplots.AxesSubplot at 0x7f311b522860>"
            ]
          },
          "metadata": {
            "tags": []
          },
          "execution_count": 14
        },
        {
          "output_type": "display_data",
          "data": {
            "image/png": "[encoded data removed]",
            "text/plain": [
              "<matplotlib.figure.Figure at 0x7f311a76e518>"
            ]
          },
          "metadata": {
            "tags": []
          }
        }
      ]
    },
    {
      "metadata": {
        "id": "_G0pAcUecLga",
        "colab_type": "text"
      },
      "cell_type": "markdown",
      "source": [
        "### CARTOframes"
      ]
    },
    {
      "metadata": {
        "id": "Xu5ND3xWb4vQ",
        "colab_type": "code",
        "colab": {
          "autoexec": {
            "startup": false,
            "wait_interval": 0
          },
          "base_uri": "https://localhost:8080/",
          "height": 173
        },
        "outputId": "b86b44fe-b261-4097-8975-de4c601e43b5",
        "executionInfo": {
          "status": "ok",
          "timestamp": 1527773499890,
          "user_tz": -120,
          "elapsed": 27051,
          "user": {
            "displayName": "Ramiro Aznar Ballarin",
            "photoUrl": "//lh6.googleusercontent.com/-ieW6yWlqTQs/AAAAAAAAAAI/AAAAAAAAAAo/dDNG9ZEfhPI/s50-c-k-no/photo.jpg",
            "userId": "105196993695220497651"
          }
        }
      },
      "cell_type": "code",
      "source": [
        "### import table into carto\n",
        "\n",
        "table = value + '_table'\n",
        "cc.write(df, table,\n",
        "         lnglat=('lon', 'lat'),\n",
        "         overwrite=True)"
      ],
      "execution_count": 15,
      "outputs": [
        {
          "output_type": "stream",
          "text": [
            "/usr/local/lib/python3.6/dist-packages/carto/resources.py:90: FutureWarning: This is part of a non-public CARTO API and may change in the future. Take this into account if you are using this in a production environment\n",
            "  warnings.warn('This is part of a non-public CARTO API and may change in the future. Take this into account if you are using this in a production environment', FutureWarning)\n"
          ],
          "name": "stderr"
        },
        {
          "output_type": "stream",
          "text": [
            "Table successfully written to CARTO: https://ramirocartodb.carto.com/dataset/pharmacy_table\n",
            "`the_geom` column is being populated from `('lon', 'lat')`. Check the status of the operation with:\n",
            "    \u001b[1mBatchJobStatus(CartoContext(), 'd9a83b63-adae-4bfa-8b37-ea134740126c').status()\u001b[0m\n",
            "or try reading the table from CARTO in a couple of minutes.\n",
            "\u001b[1mNote:\u001b[0m `CartoContext.map` will not work on this table until its geometries are created.\n"
          ],
          "name": "stdout"
        },
        {
          "output_type": "execute_result",
          "data": {
            "text/plain": [
              "BatchJobStatus(job_id='d9a83b63-adae-4bfa-8b37-ea134740126c', last_status='pending', created_at='2018-05-31T13:31:39.323Z')"
            ]
          },
          "metadata": {
            "tags": []
          },
          "execution_count": 15
        }
      ]
    },
    {
      "metadata": {
        "id": "jKp1Tmy8cWvr",
        "colab_type": "code",
        "colab": {
          "autoexec": {
            "startup": false,
            "wait_interval": 0
          },
          "base_uri": "https://localhost:8080/",
          "height": 425
        },
        "outputId": "2dabc81b-8743-4331-ccd6-e1f1849843da",
        "executionInfo": {
          "status": "ok",
          "timestamp": 1527773638227,
          "user_tz": -120,
          "elapsed": 1022,
          "user": {
            "displayName": "Ramiro Aznar Ballarin",
            "photoUrl": "//lh6.googleusercontent.com/-ieW6yWlqTQs/AAAAAAAAAAI/AAAAAAAAAAo/dDNG9ZEfhPI/s50-c-k-no/photo.jpg",
            "userId": "105196993695220497651"
          }
        }
      },
      "cell_type": "code",
      "source": [
        "from cartoframes import Layer, styling, BaseMap\n",
        "\n",
        "### define layer\n",
        "l = Layer(table,\n",
        "          size=6,\n",
        "          color={'column': 'wheelchair',\n",
        "                 'scheme': styling.bold(5)})\n",
        "\n",
        "### visualize layer\n",
        "cc.map(layers=l)"
      ],
      "execution_count": 17,
      "outputs": [
        {
          "output_type": "execute_result",
          "data": {
            "text/html": [
              "<iframe srcdoc=\"<!DOCTYPE html>\n",
              "<html>\n",
              "  <head>\n",
              "    <title>Carto</title>\n",
              "    <meta name='viewport' content='initial-scale=1.0, user-scalable=no' />\n",
              "    <meta http-equiv='content-type' content='text/html; charset=UTF-8' />\n",
              "    <link rel='shortcut icon' href='http://cartodb.com/assets/favicon.ico' />\n",
              "\n",
              "    <style>\n",
              "     html, body, #map {\n",
              "       height: 100%;\n",
              "       padding: 0;\n",
              "       margin: 0;\n",
              "     }\n",
              "     #zoom-center {\n",
              "       position: absolute;\n",
              "       right: 0;\n",
              "       top: 0;\n",
              "       background-color: rgba(255, 255, 255, 0.7);\n",
              "       width: 240px;\n",
              "       z-index: 100;\n",
              "       padding: 4px;\n",
              "     }\n",
              "    </style>\n",
              "\n",
              "    <link rel='stylesheet' href='https://cartodb-libs.global.ssl.fastly.net/cartodb.js/v3/3.15/themes/css/cartodb.css' />\n",
              "  </head>\n",
              "  <body>\n",
              "    <div id='zoom-center'>\n",
              "      zoom=<span id='zoom'>4</span>,\n",
              "      lng=<span id='lon'>No data</span>, lat=<span id='lat'>No data</span>\n",
              "    </div>\n",
              "    <div id='map'></div>\n",
              "    <script src='https://cartodb-libs.global.ssl.fastly.net/cartodb.js/v3/3.15/cartodb.js'></script>\n",
              "\n",
              "    <script>\n",
              "     const config  = {&quot;user_name&quot;: &quot;ramirocartodb&quot;, &quot;maps_api_template&quot;: &quot;https://ramirocartodb.carto.com&quot;, &quot;sql_api_template&quot;: &quot;https://ramirocartodb.carto.com&quot;, &quot;tiler_protocol&quot;: &quot;https&quot;, &quot;tiler_domain&quot;: &quot;carto.com&quot;, &quot;tiler_port&quot;: &quot;80&quot;, &quot;type&quot;: &quot;namedmap&quot;, &quot;named_map&quot;: {&quot;name&quot;: &quot;cartoframes_ver20170406_layers1_time0_baseid2_labels0_zoom0&quot;, &quot;params&quot;: {&quot;basemap_url&quot;: &quot;https://{s}.basemaps.cartocdn.com/rastertiles/voyager_labels_under/{z}/{x}/{y}.png&quot;, &quot;cartocss_0&quot;: &quot;#layer {  marker-width: 6; marker-fill: ramp([wheelchair], cartocolor(Bold), category(5), =); marker-fill-opacity: 0.9; marker-allow-overlap: true; marker-line-width: 0.5; marker-line-color: #FFF; marker-line-opacity: 1;}#layer[wheelchair = null] {  marker-fill: #ccc;}&quot;, &quot;sql_0&quot;: &quot;SELECT * FROM pharmacy_table&quot;, &quot;west&quot;: -3.8366041, &quot;south&quot;: 40.3398248, &quot;east&quot;: -3.5688266, &quot;north&quot;: 40.5455503}}};\n",
              "     const bounds  = [[40.5455503, -3.5688266], [40.3398248, -3.8366041]];\n",
              "     const options = {&quot;filter&quot;: [&quot;mapnik&quot;, &quot;torque&quot;], &quot;https&quot;: true};\n",
              "     var labels_url = '';\n",
              "\n",
              "     const adjustLongitude = (lng) => (\n",
              "       lng - ((Math.ceil((lng + 180) / 360) - 1) * 360)\n",
              "     );\n",
              "     const map = L.map('map', {\n",
              "       zoom: 3,\n",
              "       center: [0, 0],\n",
              "     });\n",
              "\n",
              "     if (L.Browser.retina) {\n",
              "         var basemap = config.named_map.params.basemap_url.replace('.png', '@2x.png');\n",
              "         labels_url = labels_url.replace('.png', '@2x.png');\n",
              "     } else {\n",
              "         var basemap = config.named_map.params.basemap_url;\n",
              "     }\n",
              "     L.tileLayer(basemap, {\n",
              "         attribution: &quot;&copy; <a href=\\&quot;http://www.openstreetmap.org/copyright\\&quot;>OpenStreetMap</a>&quot;\n",
              "     }).addTo(map);\n",
              "\n",
              "     const updateMapInfo = () => {\n",
              "       $('#zoom').text(map.getZoom());\n",
              "       $('#lat').text(map.getCenter().lat.toFixed(4));\n",
              "       $('#lon').text(adjustLongitude(map.getCenter().lng).toFixed(4));\n",
              "     };\n",
              "\n",
              "     cartodb.createLayer(map, config, options)\n",
              "            .addTo(map)\n",
              "            .done((layer) => {\n",
              "                // add labels layer\n",
              "                if (labels_url) {\n",
              "                    var topPane = L.DomUtil.create('div', 'leaflet-top-pane', map.getPanes().mapPane);\n",
              "                    var topLayer = new L.tileLayer(labels_url).addTo(map);\n",
              "                    topPane.appendChild(topLayer.getContainer());\n",
              "                    topLayer.setZIndex(7);\n",
              "                 }\n",
              "\n",
              "                // fit map to bounds\n",
              "                if (bounds.length) {\n",
              "                  map.fitBounds(bounds);\n",
              "                }\n",
              "\n",
              "                updateMapInfo();\n",
              "                map.on('move', () => {\n",
              "                  updateMapInfo();\n",
              "                });\n",
              "            })\n",
              "            .error((err) => {\n",
              "              console.log('ERROR: ', err);\n",
              "            });\n",
              "    </script>\n",
              "\n",
              "  </body>\n",
              "</html>\n",
              "\" width=800 height=400>  Preview image: <img src=\"https://ramirocartodb.carto.com/api/v1/map/static/named/cartoframes_ver20170406_layers1_time0_baseid2_labels0_zoom0/800/400.png?config=%7B%22basemap_url%22%3A+%22https%3A%2F%2F%7Bs%7D.basemaps.cartocdn.com%2Frastertiles%2Fvoyager_labels_under%2F%7Bz%7D%2F%7Bx%7D%2F%7By%7D.png%22%2C+%22cartocss_0%22%3A+%22%23layer+%7B++marker-width%3A+6%3B+marker-fill%3A+ramp%28%5Bwheelchair%5D%2C+cartocolor%28Bold%29%2C+category%285%29%2C+%3D%29%3B+marker-fill-opacity%3A+0.9%3B+marker-allow-overlap%3A+true%3B+marker-line-width%3A+0.5%3B+marker-line-color%3A+%23FFF%3B+marker-line-opacity%3A+1%3B%7D%23layer%5Bwheelchair+%3D+null%5D+%7B++marker-fill%3A+%23ccc%3B%7D%22%2C+%22sql_0%22%3A+%22SELECT+%2A+FROM+pharmacy_table%22%7D&anti_cache=0.09122769335308578&bbox=-3.8366041%2C40.3398248%2C-3.5688266%2C40.5455503\" /></iframe>"
            ],
            "text/plain": [
              "<IPython.core.display.HTML object>"
            ]
          },
          "metadata": {
            "tags": []
          },
          "execution_count": 17
        }
      ]
    },
    {
      "metadata": {
        "id": "WRnk5TmVf4kl",
        "colab_type": "code",
        "colab": {
          "autoexec": {
            "startup": false,
            "wait_interval": 0
          },
          "base_uri": "https://localhost:8080/",
          "height": 34
        },
        "outputId": "942bf11d-ca8a-4a2e-e8d4-3125704fc111",
        "executionInfo": {
          "status": "ok",
          "timestamp": 1527773640390,
          "user_tz": -120,
          "elapsed": 1962,
          "user": {
            "displayName": "Ramiro Aznar Ballarin",
            "photoUrl": "//lh6.googleusercontent.com/-ieW6yWlqTQs/AAAAAAAAAAI/AAAAAAAAAAo/dDNG9ZEfhPI/s50-c-k-no/photo.jpg",
            "userId": "105196993695220497651"
          }
        }
      },
      "cell_type": "code",
      "source": [
        "### get DO measures available\n",
        "\n",
        "meta = cc.data_discovery(region=table, keywords='age')\n",
        "meta.shape"
      ],
      "execution_count": 18,
      "outputs": [
        {
          "output_type": "execute_result",
          "data": {
            "text/plain": [
              "(802, 42)"
            ]
          },
          "metadata": {
            "tags": []
          },
          "execution_count": 18
        }
      ]
    },
    {
      "metadata": {
        "id": "Vw2b-2S_hKcX",
        "colab_type": "code",
        "colab": {
          "autoexec": {
            "startup": false,
            "wait_interval": 0
          },
          "base_uri": "https://localhost:8080/",
          "height": 85
        },
        "outputId": "25eb4fed-5899-4697-c355-c93ac468bc48",
        "executionInfo": {
          "status": "ok",
          "timestamp": 1527773640966,
          "user_tz": -120,
          "elapsed": 452,
          "user": {
            "displayName": "Ramiro Aznar Ballarin",
            "photoUrl": "//lh6.googleusercontent.com/-ieW6yWlqTQs/AAAAAAAAAAI/AAAAAAAAAAo/dDNG9ZEfhPI/s50-c-k-no/photo.jpg",
            "userId": "105196993695220497651"
          }
        }
      },
      "cell_type": "code",
      "source": [
        "### get DO measures per data source\n",
        "\n",
        "meta.groupby('geom_id')['geom_id'].count()"
      ],
      "execution_count": 19,
      "outputs": [
        {
          "output_type": "execute_result",
          "data": {
            "text/plain": [
              "geom_id\n",
              "es.ine.the_geom    382\n",
              "eu.geo.nuts2       420\n",
              "Name: geom_id, dtype: int64"
            ]
          },
          "metadata": {
            "tags": []
          },
          "execution_count": 19
        }
      ]
    },
    {
      "metadata": {
        "id": "mItlukN2hQsO",
        "colab_type": "code",
        "colab": {
          "autoexec": {
            "startup": false,
            "wait_interval": 0
          },
          "base_uri": "https://localhost:8080/",
          "height": 34
        },
        "outputId": "625e1177-0f0a-495f-8346-96f9dd745dbc",
        "executionInfo": {
          "status": "ok",
          "timestamp": 1527773642012,
          "user_tz": -120,
          "elapsed": 830,
          "user": {
            "displayName": "Ramiro Aznar Ballarin",
            "photoUrl": "//lh6.googleusercontent.com/-ieW6yWlqTQs/AAAAAAAAAAI/AAAAAAAAAAo/dDNG9ZEfhPI/s50-c-k-no/photo.jpg",
            "userId": "105196993695220497651"
          }
        }
      },
      "cell_type": "code",
      "source": [
        "### get INE measures\n",
        "\n",
        "meta_ine = meta[meta['geom_id'] == 'es.ine.the_geom']\n",
        "meta_ine.shape"
      ],
      "execution_count": 20,
      "outputs": [
        {
          "output_type": "execute_result",
          "data": {
            "text/plain": [
              "(382, 42)"
            ]
          },
          "metadata": {
            "tags": []
          },
          "execution_count": 20
        }
      ]
    },
    {
      "metadata": {
        "id": "HCzvQLumhaoI",
        "colab_type": "code",
        "colab": {
          "autoexec": {
            "startup": false,
            "wait_interval": 0
          },
          "base_uri": "https://localhost:8080/",
          "height": 5219
        },
        "outputId": "481de67a-b020-4ea5-d11c-0b04d92ecd41",
        "executionInfo": {
          "status": "ok",
          "timestamp": 1527773643038,
          "user_tz": -120,
          "elapsed": 825,
          "user": {
            "displayName": "Ramiro Aznar Ballarin",
            "photoUrl": "//lh6.googleusercontent.com/-ieW6yWlqTQs/AAAAAAAAAAI/AAAAAAAAAAo/dDNG9ZEfhPI/s50-c-k-no/photo.jpg",
            "userId": "105196993695220497651"
          }
        }
      },
      "cell_type": "code",
      "source": [
        "### list INE measures\n",
        "\n",
        "meta_ine['numer_name'].values"
      ],
      "execution_count": 21,
      "outputs": [
        {
          "output_type": "execute_result",
          "data": {
            "text/plain": [
              "array(['Population age 60 to 64 (female)',\n",
              "       'Population age 60 to 64 (female)',\n",
              "       'Persons with marital status: divorced and under 16 years of age',\n",
              "       'Persons with marital status: divorced and under 16 years of age',\n",
              "       'Population age 95 to 99',\n",
              "       'Females without information regarding their educational level  (under 16 years of age)',\n",
              "       'Females without information regarding their educational level  (under 16 years of age)',\n",
              "       'Persons with marital status: single and between 16 (included) and 64 (included) years of age',\n",
              "       'Persons with marital status: single and between 16 (included) and 64 (included) years of age',\n",
              "       'Population age 90 to 94', 'Population age 60 to 64',\n",
              "       'Population age 0 to 4 (female)', 'Population age 0 to 4 (female)',\n",
              "       'Population age 65 to 69 (female)',\n",
              "       'Population age 65 to 69 (female)',\n",
              "       'Persons aged over 64 years and with second level studies',\n",
              "       'Persons aged over 64 years and with second level studies',\n",
              "       'Population age 60 to 64', 'Population age 0 to 4 (female)',\n",
              "       'Population age 0 to 4 (female)',\n",
              "       'Population age 65 to 69 (female)',\n",
              "       'Population age 65 to 69 (female)',\n",
              "       'Persons aged over 64 years and with second level studies',\n",
              "       'Persons aged over 64 years and with second level studies',\n",
              "       'Population age 95 to 99',\n",
              "       'Females between 16 (included) and 64 (included) years of age',\n",
              "       'Females between 16 (included) and 64 (included) years of age',\n",
              "       'Females without information regarding their educational level  (under 16 years of age)',\n",
              "       'Females without information regarding their educational level  (under 16 years of age)',\n",
              "       'Persons with marital status: single and between 16 (included) and 64 (included) years of age',\n",
              "       'Persons with marital status: single and between 16 (included) and 64 (included) years of age',\n",
              "       'Population age 90 to 94',\n",
              "       'Persons with marital status: married and between 16 (included) and 64 (included) years of age',\n",
              "       'Persons with marital status: married and between 16 (included) and 64 (included) years of age',\n",
              "       'Population age 10 to 14 (female)',\n",
              "       'Population age 10 to 14 (female)',\n",
              "       'Population age 60 to 64 (female)',\n",
              "       'Population age 60 to 64 (female)',\n",
              "       'Persons with marital status: divorced and under 16 years of age',\n",
              "       'Persons with marital status: divorced and under 16 years of age',\n",
              "       'Population age 60 to 64 (male)', 'Population age 60 to 64 (male)',\n",
              "       'Population age 15 to 19 (male)', 'Population age 15 to 19 (male)',\n",
              "       'Population age 20 to 24', 'Population age 35 to 39 (female)',\n",
              "       'Population age 35 to 39 (female)',\n",
              "       'Population age 90 to 94 (female)',\n",
              "       'Population age 90 to 94 (female)',\n",
              "       'Persons with a foreign nationality and under 16 years of age',\n",
              "       'Persons with a foreign nationality and under 16 years of age',\n",
              "       'Population age 85 to 89 (male)', 'Population age 85 to 89 (male)',\n",
              "       'Population age 85 to 89 (female)',\n",
              "       'Population age 85 to 89 (female)',\n",
              "       'Persons with marital status: widowed and over 64 years of age',\n",
              "       'Persons with marital status: widowed and over 64 years of age',\n",
              "       'Population age 95 to 99 (male)', 'Population age 95 to 99 (male)',\n",
              "       'Population age 100 or more', 'Population age 0 to 4 (male)',\n",
              "       'Population age 0 to 4 (male)',\n",
              "       'Persons aged over 64 years and with third level studies',\n",
              "       'Persons aged over 64 years and with third level studies',\n",
              "       'Population age 25 to 29 (male)', 'Population age 25 to 29 (male)',\n",
              "       'Population age 100 or more (female)',\n",
              "       'Population age 100 or more (female)',\n",
              "       'Population age 20 to 24 (female)',\n",
              "       'Population age 20 to 24 (female)', 'Females over 64 years of age',\n",
              "       'Females over 64 years of age',\n",
              "       'Persons with marital status: divorced and over 64 years of age',\n",
              "       'Persons with marital status: divorced and over 64 years of age',\n",
              "       'Persons without information regarding their educational level (aged under 16 years)',\n",
              "       'Population age 95 to 99 (female)',\n",
              "       'Population age 95 to 99 (female)',\n",
              "       'Population age 20 to 24 (male)', 'Population age 20 to 24 (male)',\n",
              "       'Males over 64 years of age', 'Males over 64 years of age',\n",
              "       'Persons with Spanish nationality without information regarding their educational level (under 16 years of age)',\n",
              "       'Persons with Spanish nationality without information regarding their educational level (under 16 years of age)',\n",
              "       'Persons with marital status: widowed and under 16 years of age',\n",
              "       'Persons with marital status: widowed and under 16 years of age',\n",
              "       'Persons with marital status: married and over 64 years of age',\n",
              "       'Persons with marital status: married and over 64 years of age',\n",
              "       'Population age 75 to 79 (female)',\n",
              "       'Population age 75 to 79 (female)', 'Persons aged over 64 years',\n",
              "       'Population age 70 to 74', 'Population age 75 to 79 (male)',\n",
              "       'Population age 75 to 79 (male)', 'Population age 45 to 49',\n",
              "       'Population age 25 to 29',\n",
              "       'Persons with marital status: married and over 64 years of age',\n",
              "       'Persons with marital status: married and over 64 years of age',\n",
              "       'Population age 75 to 79 (female)',\n",
              "       'Population age 75 to 79 (female)', 'Persons aged over 64 years',\n",
              "       'Population age 70 to 74', 'Population age 45 to 49',\n",
              "       'Population age 75 to 79 (male)', 'Population age 75 to 79 (male)',\n",
              "       'Population age 25 to 29', 'Population age 20 to 24 (female)',\n",
              "       'Population age 20 to 24 (female)', 'Females over 64 years of age',\n",
              "       'Females over 64 years of age',\n",
              "       'Persons with marital status: divorced and over 64 years of age',\n",
              "       'Persons with marital status: divorced and over 64 years of age',\n",
              "       'Persons without information regarding their educational level (aged under 16 years)',\n",
              "       'Population age 95 to 99 (female)',\n",
              "       'Population age 95 to 99 (female)', 'Males over 64 years of age',\n",
              "       'Males over 64 years of age',\n",
              "       'Persons with Spanish nationality without information regarding their educational level (under 16 years of age)',\n",
              "       'Persons with Spanish nationality without information regarding their educational level (under 16 years of age)',\n",
              "       'Persons with marital status: widowed and under 16 years of age',\n",
              "       'Persons with marital status: widowed and under 16 years of age',\n",
              "       'Population age 20 to 24 (male)', 'Population age 20 to 24 (male)',\n",
              "       'Population age 95 to 99 (male)', 'Population age 95 to 99 (male)',\n",
              "       'Population age 100 or more', 'Population age 0 to 4 (male)',\n",
              "       'Population age 0 to 4 (male)',\n",
              "       'Persons aged over 64 years and with third level studies',\n",
              "       'Persons aged over 64 years and with third level studies',\n",
              "       'Population age 25 to 29 (male)', 'Population age 25 to 29 (male)',\n",
              "       'Population age 100 or more (female)',\n",
              "       'Population age 100 or more (female)', 'Population age 20 to 24',\n",
              "       'Population age 90 to 94 (female)',\n",
              "       'Population age 90 to 94 (female)',\n",
              "       'Population age 35 to 39 (female)',\n",
              "       'Population age 35 to 39 (female)',\n",
              "       'Persons with a foreign nationality and under 16 years of age',\n",
              "       'Persons with a foreign nationality and under 16 years of age',\n",
              "       'Population age 85 to 89 (male)', 'Population age 85 to 89 (male)',\n",
              "       'Population age 85 to 89 (female)',\n",
              "       'Population age 85 to 89 (female)',\n",
              "       'Persons with marital status: widowed and over 64 years of age',\n",
              "       'Persons with marital status: widowed and over 64 years of age',\n",
              "       'Population age 5 to 9 (male)', 'Population age 5 to 9 (male)',\n",
              "       'Persons aged between 16 (included) and 64 (included) years and with second level studies',\n",
              "       'Persons aged between 16 (included) and 64 (included) years and with second level studies',\n",
              "       'Females under 16 years of age', 'Females under 16 years of age',\n",
              "       'Persons with marital status: separated and under 16 years of age',\n",
              "       'Persons with marital status: separated and under 16 years of age',\n",
              "       'Population age 50 to 54 (male)', 'Population age 50 to 54 (male)',\n",
              "       'Population age 35 to 39', 'Population age 80 to 84 (female)',\n",
              "       'Population age 80 to 84 (female)',\n",
              "       'Population age 45 to 49 (female)',\n",
              "       'Population age 45 to 49 (female)', 'Population age 30 to 34',\n",
              "       'Population age 100 or more (male)',\n",
              "       'Population age 100 or more (male)',\n",
              "       'Persons aged between 16 (included) and 64 (included) years and without studies',\n",
              "       'Persons aged between 16 (included) and 64 (included) years and without studies',\n",
              "       'Males without information regarding their educational level (under 16 years of age)',\n",
              "       'Males without information regarding their educational level (under 16 years of age)',\n",
              "       'Population age 50 to 54', 'Population age 80 to 84',\n",
              "       'Persons aged between 16 (included) and 64 (included) years',\n",
              "       'Persons aged over 64 years and without studies',\n",
              "       'Persons aged over 64 years and without studies',\n",
              "       'Population age 0 to 4', 'Population age 55 to 59',\n",
              "       'Population age 15 to 19 (female)',\n",
              "       'Population age 15 to 19 (female)', 'Population age 75 to 79',\n",
              "       'Persons aged between 16 (included) and 64 (included) years and illiterate',\n",
              "       'Persons aged between 16 (included) and 64 (included) years and illiterate',\n",
              "       'Persons with marital status: widowed and between 16 (included) and 64 (included) years of age',\n",
              "       'Persons with marital status: widowed and between 16 (included) and 64 (included) years of age',\n",
              "       'Population age 55 to 59 (male)', 'Population age 55 to 59 (male)',\n",
              "       'Population age 10 to 14 (male)', 'Population age 10 to 14 (male)',\n",
              "       'Persons aged over 64 years and illiterate',\n",
              "       'Persons aged over 64 years and illiterate',\n",
              "       'Persons aged under 16 years',\n",
              "       'Persons with marital status: separated and between 16 (included) and 64 (included) years of age',\n",
              "       'Persons with marital status: separated and between 16 (included) and 64 (included) years of age',\n",
              "       'Population age 70 to 74 (female)',\n",
              "       'Population age 70 to 74 (female)',\n",
              "       'Persons with Spanish nationality and between 16 (included) and 64 (included) years of age',\n",
              "       'Persons with Spanish nationality and between 16 (included) and 64 (included) years of age',\n",
              "       'Population age 65 to 69', 'Population age 15 to 19',\n",
              "       'Males under 16 years of age', 'Males under 16 years of age',\n",
              "       'Population age 50 to 54 (female)',\n",
              "       'Population age 50 to 54 (female)', 'Population age 5 to 9',\n",
              "       'Population age 10 to 14 (male)', 'Population age 10 to 14 (male)',\n",
              "       'Persons aged between 16 (included) and 64 (included) years and illiterate',\n",
              "       'Persons aged between 16 (included) and 64 (included) years and illiterate',\n",
              "       'Persons with marital status: widowed and between 16 (included) and 64 (included) years of age',\n",
              "       'Persons with marital status: widowed and between 16 (included) and 64 (included) years of age',\n",
              "       'Population age 55 to 59 (male)', 'Population age 55 to 59 (male)',\n",
              "       'Persons aged under 16 years',\n",
              "       'Persons aged over 64 years and illiterate',\n",
              "       'Persons aged over 64 years and illiterate',\n",
              "       'Persons with marital status: separated and between 16 (included) and 64 (included) years of age',\n",
              "       'Persons with marital status: separated and between 16 (included) and 64 (included) years of age',\n",
              "       'Persons with Spanish nationality and between 16 (included) and 64 (included) years of age',\n",
              "       'Persons with Spanish nationality and between 16 (included) and 64 (included) years of age',\n",
              "       'Population age 70 to 74 (female)',\n",
              "       'Population age 70 to 74 (female)', 'Population age 65 to 69',\n",
              "       'Males under 16 years of age', 'Males under 16 years of age',\n",
              "       'Population age 15 to 19', 'Population age 50 to 54 (female)',\n",
              "       'Population age 50 to 54 (female)', 'Population age 5 to 9',\n",
              "       'Persons aged over 64 years and without studies',\n",
              "       'Persons aged over 64 years and without studies',\n",
              "       'Population age 0 to 4', 'Population age 55 to 59',\n",
              "       'Population age 15 to 19 (female)',\n",
              "       'Population age 15 to 19 (female)', 'Population age 75 to 79',\n",
              "       'Population age 100 or more (male)',\n",
              "       'Population age 100 or more (male)', 'Population age 30 to 34',\n",
              "       'Persons aged between 16 (included) and 64 (included) years and without studies',\n",
              "       'Persons aged between 16 (included) and 64 (included) years and without studies',\n",
              "       'Males without information regarding their educational level (under 16 years of age)',\n",
              "       'Males without information regarding their educational level (under 16 years of age)',\n",
              "       'Population age 50 to 54', 'Population age 80 to 84',\n",
              "       'Persons aged between 16 (included) and 64 (included) years',\n",
              "       'Population age 5 to 9 (male)', 'Population age 5 to 9 (male)',\n",
              "       'Persons aged between 16 (included) and 64 (included) years and with second level studies',\n",
              "       'Persons aged between 16 (included) and 64 (included) years and with second level studies',\n",
              "       'Females under 16 years of age', 'Females under 16 years of age',\n",
              "       'Persons with marital status: separated and under 16 years of age',\n",
              "       'Persons with marital status: separated and under 16 years of age',\n",
              "       'Population age 50 to 54 (male)', 'Population age 50 to 54 (male)',\n",
              "       'Population age 80 to 84 (female)',\n",
              "       'Population age 80 to 84 (female)',\n",
              "       'Population age 45 to 49 (female)',\n",
              "       'Population age 45 to 49 (female)', 'Population age 35 to 39',\n",
              "       'Population age 45 to 49 (male)', 'Population age 45 to 49 (male)',\n",
              "       'Population age 35 to 39 (male)', 'Population age 35 to 39 (male)',\n",
              "       'Population age 5 to 9 (female)', 'Population age 5 to 9 (female)',\n",
              "       'Persons with Spanish nationality and under 16 years of age',\n",
              "       'Persons with Spanish nationality and under 16 years of age',\n",
              "       'Population age 90 to 94 (male)', 'Population age 90 to 94 (male)',\n",
              "       'Population age 40 to 44 (male)', 'Population age 40 to 44 (male)',\n",
              "       'Persons aged between 16 (included) and 64 (included) years and with third level studies',\n",
              "       'Persons aged between 16 (included) and 64 (included) years and with third level studies',\n",
              "       'Persons with a foreign nationality and over 64 years of age',\n",
              "       'Persons with a foreign nationality and over 64 years of age',\n",
              "       'Persons aged over 64 years and with first level studies',\n",
              "       'Persons aged over 64 years and with first level studies',\n",
              "       'Population age 85 to 89',\n",
              "       'Persons with marital status: separated and over 64 years of age',\n",
              "       'Persons with marital status: separated and over 64 years of age',\n",
              "       'Males between 16 (included) and 64 (included) years of age',\n",
              "       'Males between 16 (included) and 64 (included) years of age',\n",
              "       'Persons with a foreign nationality without information regarding their educational level (under 16 years of age)',\n",
              "       'Persons with a foreign nationality without information regarding their educational level (under 16 years of age)',\n",
              "       'Population age 10 to 14',\n",
              "       'Persons aged between 16 (included) and 64 (included) years and with first level studies',\n",
              "       'Persons aged between 16 (included) and 64 (included) years and with first level studies',\n",
              "       'Persons with Spanish nationality and over 64 years of age',\n",
              "       'Persons with Spanish nationality and over 64 years of age',\n",
              "       'Population age 30 to 34 (male)', 'Population age 30 to 34 (male)',\n",
              "       'Population age 25 to 29 (female)',\n",
              "       'Population age 25 to 29 (female)',\n",
              "       'Persons with a foreign nationality and between 16 (included) and 64 (included) years of age',\n",
              "       'Persons with a foreign nationality and between 16 (included) and 64 (included) years of age',\n",
              "       'Persons with marital status: married and under 16 years of age',\n",
              "       'Persons with marital status: married and under 16 years of age',\n",
              "       'Population age 80 to 84 (male)', 'Population age 80 to 84 (male)',\n",
              "       'Population age 30 to 34 (female)',\n",
              "       'Population age 30 to 34 (female)', 'Population age 40 to 44',\n",
              "       'Population age 55 to 59 (female)',\n",
              "       'Population age 55 to 59 (female)',\n",
              "       'Persons with marital status: single and under 16 years of age',\n",
              "       'Persons with marital status: single and under 16 years of age',\n",
              "       'Persons with marital status: single and over 64 years of age',\n",
              "       'Persons with marital status: single and over 64 years of age',\n",
              "       'Population age 65 to 69 (male)', 'Population age 65 to 69 (male)',\n",
              "       'Population age 70 to 74 (male)', 'Population age 70 to 74 (male)',\n",
              "       'Population age 40 to 44 (female)',\n",
              "       'Population age 40 to 44 (female)',\n",
              "       'Persons with marital status: divorced and between 16 (included) and 64 (included) years of age',\n",
              "       'Persons with marital status: divorced and between 16 (included) and 64 (included) years of age',\n",
              "       'Persons with marital status: married and under 16 years of age',\n",
              "       'Persons with marital status: married and under 16 years of age',\n",
              "       'Population age 80 to 84 (male)', 'Population age 80 to 84 (male)',\n",
              "       'Population age 30 to 34 (female)',\n",
              "       'Population age 30 to 34 (female)', 'Population age 40 to 44',\n",
              "       'Population age 55 to 59 (female)',\n",
              "       'Population age 55 to 59 (female)',\n",
              "       'Persons with marital status: single and over 64 years of age',\n",
              "       'Persons with marital status: single and over 64 years of age',\n",
              "       'Persons with marital status: single and under 16 years of age',\n",
              "       'Persons with marital status: single and under 16 years of age',\n",
              "       'Population age 65 to 69 (male)', 'Population age 65 to 69 (male)',\n",
              "       'Population age 40 to 44 (female)',\n",
              "       'Population age 40 to 44 (female)',\n",
              "       'Population age 70 to 74 (male)', 'Population age 70 to 74 (male)',\n",
              "       'Persons with marital status: divorced and between 16 (included) and 64 (included) years of age',\n",
              "       'Persons with marital status: divorced and between 16 (included) and 64 (included) years of age',\n",
              "       'Persons aged between 16 (included) and 64 (included) years and with first level studies',\n",
              "       'Persons aged between 16 (included) and 64 (included) years and with first level studies',\n",
              "       'Persons with Spanish nationality and over 64 years of age',\n",
              "       'Persons with Spanish nationality and over 64 years of age',\n",
              "       'Population age 30 to 34 (male)', 'Population age 30 to 34 (male)',\n",
              "       'Persons with a foreign nationality and between 16 (included) and 64 (included) years of age',\n",
              "       'Persons with a foreign nationality and between 16 (included) and 64 (included) years of age',\n",
              "       'Population age 25 to 29 (female)',\n",
              "       'Population age 25 to 29 (female)',\n",
              "       'Persons aged over 64 years and with first level studies',\n",
              "       'Persons aged over 64 years and with first level studies',\n",
              "       'Persons with a foreign nationality and over 64 years of age',\n",
              "       'Persons with a foreign nationality and over 64 years of age',\n",
              "       'Population age 85 to 89',\n",
              "       'Persons with marital status: separated and over 64 years of age',\n",
              "       'Persons with marital status: separated and over 64 years of age',\n",
              "       'Persons with a foreign nationality without information regarding their educational level (under 16 years of age)',\n",
              "       'Persons with a foreign nationality without information regarding their educational level (under 16 years of age)',\n",
              "       'Males between 16 (included) and 64 (included) years of age',\n",
              "       'Males between 16 (included) and 64 (included) years of age',\n",
              "       'Population age 10 to 14', 'Population age 45 to 49 (male)',\n",
              "       'Population age 45 to 49 (male)', 'Population age 35 to 39 (male)',\n",
              "       'Population age 35 to 39 (male)', 'Population age 5 to 9 (female)',\n",
              "       'Population age 5 to 9 (female)',\n",
              "       'Persons with Spanish nationality and under 16 years of age',\n",
              "       'Persons with Spanish nationality and under 16 years of age',\n",
              "       'Population age 40 to 44 (male)', 'Population age 40 to 44 (male)',\n",
              "       'Population age 90 to 94 (male)', 'Population age 90 to 94 (male)',\n",
              "       'Persons aged between 16 (included) and 64 (included) years and with third level studies',\n",
              "       'Persons aged between 16 (included) and 64 (included) years and with third level studies',\n",
              "       'Population age 60 to 64 (male)', 'Population age 60 to 64 (male)',\n",
              "       'Population age 15 to 19 (male)', 'Population age 15 to 19 (male)',\n",
              "       'Persons with marital status: married and between 16 (included) and 64 (included) years of age',\n",
              "       'Persons with marital status: married and between 16 (included) and 64 (included) years of age',\n",
              "       'Population age 10 to 14 (female)',\n",
              "       'Population age 10 to 14 (female)',\n",
              "       'Females between 16 (included) and 64 (included) years of age',\n",
              "       'Females between 16 (included) and 64 (included) years of age'],\n",
              "      dtype=object)"
            ]
          },
          "metadata": {
            "tags": []
          },
          "execution_count": 21
        }
      ]
    },
    {
      "metadata": {
        "id": "57eBY-KKpeu8",
        "colab_type": "code",
        "colab": {
          "autoexec": {
            "startup": false,
            "wait_interval": 0
          },
          "base_uri": "https://localhost:8080/",
          "height": 493
        },
        "outputId": "28b00d9f-351b-4e3e-eaf3-117b1b138c35",
        "executionInfo": {
          "status": "ok",
          "timestamp": 1527773644607,
          "user_tz": -120,
          "elapsed": 1425,
          "user": {
            "displayName": "Ramiro Aznar Ballarin",
            "photoUrl": "//lh6.googleusercontent.com/-ieW6yWlqTQs/AAAAAAAAAAI/AAAAAAAAAAo/dDNG9ZEfhPI/s50-c-k-no/photo.jpg",
            "userId": "105196993695220497651"
          }
        }
      },
      "cell_type": "code",
      "source": [
        "### add selected population and age measures from DO, buffer with a radius of 200 m\n",
        "do_measures = ['Population age 75 to 79', 'Population age 80 to 84', 'Population age 85 to 89', 'Population age 90 to 94', 'Population age 95 to 99', 'Population age 100 or more']\n",
        "meta_selected = meta_ine[meta_ine['numer_name'].isin(do_measures)]\n",
        "data = cc.data(table, meta_selected)\n",
        "data.head()"
      ],
      "execution_count": 22,
      "outputs": [
        {
          "output_type": "execute_result",
          "data": {
            "text/html": [
              "<div>\n",
              "<style scoped>\n",
              "    .dataframe tbody tr th:only-of-type {\n",
              "        vertical-align: middle;\n",
              "    }\n",
              "\n",
              "    .dataframe tbody tr th {\n",
              "        vertical-align: top;\n",
              "    }\n",
              "\n",
              "    .dataframe thead th {\n",
              "        text-align: right;\n",
              "    }\n",
              "</style>\n",
              "<table border=\"1\" class=\"dataframe\">\n",
              "  <thead>\n",
              "    <tr style=\"text-align: right;\">\n",
              "      <th></th>\n",
              "      <th>id</th>\n",
              "      <th>lat</th>\n",
              "      <th>lon</th>\n",
              "      <th>name</th>\n",
              "      <th>pop_100_more_2015</th>\n",
              "      <th>pop_100_more_2015_by_total_pop</th>\n",
              "      <th>pop_75_79_2015</th>\n",
              "      <th>pop_75_79_2015_by_total_pop</th>\n",
              "      <th>pop_80_84_2015</th>\n",
              "      <th>pop_80_84_2015_by_total_pop</th>\n",
              "      <th>pop_85_89_2015</th>\n",
              "      <th>pop_85_89_2015_by_total_pop</th>\n",
              "      <th>pop_90_94_2015</th>\n",
              "      <th>pop_90_94_2015_by_total_pop</th>\n",
              "      <th>pop_95_99_2015</th>\n",
              "      <th>pop_95_99_2015_by_total_pop</th>\n",
              "      <th>the_geom</th>\n",
              "      <th>wheelchair</th>\n",
              "    </tr>\n",
              "    <tr>\n",
              "      <th>cartodb_id</th>\n",
              "      <th></th>\n",
              "      <th></th>\n",
              "      <th></th>\n",
              "      <th></th>\n",
              "      <th></th>\n",
              "      <th></th>\n",
              "      <th></th>\n",
              "      <th></th>\n",
              "      <th></th>\n",
              "      <th></th>\n",
              "      <th></th>\n",
              "      <th></th>\n",
              "      <th></th>\n",
              "      <th></th>\n",
              "      <th></th>\n",
              "      <th></th>\n",
              "      <th></th>\n",
              "      <th></th>\n",
              "    </tr>\n",
              "  </thead>\n",
              "  <tbody>\n",
              "    <tr>\n",
              "      <th>1</th>\n",
              "      <td>3223656506</td>\n",
              "      <td>40.379016</td>\n",
              "      <td>-3.792758</td>\n",
              "      <td>Farmacia - Paseo de Lanceros 2</td>\n",
              "      <td>1.0</td>\n",
              "      <td>0.001075</td>\n",
              "      <td>127.0</td>\n",
              "      <td>0.136559</td>\n",
              "      <td>37.0</td>\n",
              "      <td>0.039785</td>\n",
              "      <td>12.0</td>\n",
              "      <td>0.012903</td>\n",
              "      <td>2.0</td>\n",
              "      <td>0.002151</td>\n",
              "      <td>2.0</td>\n",
              "      <td>0.002151</td>\n",
              "      <td>0101000020E610000092239D8191570EC07B12D89C8330...</td>\n",
              "      <td></td>\n",
              "    </tr>\n",
              "    <tr>\n",
              "      <th>2</th>\n",
              "      <td>3223656495</td>\n",
              "      <td>40.379927</td>\n",
              "      <td>-3.781567</td>\n",
              "      <td>Farmacia - Calle Mirabel 45</td>\n",
              "      <td>0.0</td>\n",
              "      <td>0.000000</td>\n",
              "      <td>48.0</td>\n",
              "      <td>0.030000</td>\n",
              "      <td>52.0</td>\n",
              "      <td>0.032500</td>\n",
              "      <td>15.0</td>\n",
              "      <td>0.009375</td>\n",
              "      <td>11.0</td>\n",
              "      <td>0.006875</td>\n",
              "      <td>4.0</td>\n",
              "      <td>0.002500</td>\n",
              "      <td>0101000020E6100000BD169925A6400EC049B02770A130...</td>\n",
              "      <td></td>\n",
              "    </tr>\n",
              "    <tr>\n",
              "      <th>3</th>\n",
              "      <td>3226797176</td>\n",
              "      <td>40.378108</td>\n",
              "      <td>-3.781623</td>\n",
              "      <td>Farmacia - Calle Serradilla 10</td>\n",
              "      <td>0.0</td>\n",
              "      <td>0.000000</td>\n",
              "      <td>55.0</td>\n",
              "      <td>0.073925</td>\n",
              "      <td>18.0</td>\n",
              "      <td>0.024194</td>\n",
              "      <td>5.0</td>\n",
              "      <td>0.006720</td>\n",
              "      <td>5.0</td>\n",
              "      <td>0.006720</td>\n",
              "      <td>2.0</td>\n",
              "      <td>0.002688</td>\n",
              "      <td>0101000020E61000009662A29CC3400EC04F6C4FDA6530...</td>\n",
              "      <td></td>\n",
              "    </tr>\n",
              "    <tr>\n",
              "      <th>4</th>\n",
              "      <td>3223656481</td>\n",
              "      <td>40.379808</td>\n",
              "      <td>-3.778767</td>\n",
              "      <td>Farmacia - Calle Garrovillas 6</td>\n",
              "      <td>1.0</td>\n",
              "      <td>0.001029</td>\n",
              "      <td>40.0</td>\n",
              "      <td>0.041152</td>\n",
              "      <td>37.0</td>\n",
              "      <td>0.038066</td>\n",
              "      <td>10.0</td>\n",
              "      <td>0.010288</td>\n",
              "      <td>3.0</td>\n",
              "      <td>0.003086</td>\n",
              "      <td>2.0</td>\n",
              "      <td>0.002058</td>\n",
              "      <td>0101000020E610000059C345EEE93A0EC0C120448D9D30...</td>\n",
              "      <td></td>\n",
              "    </tr>\n",
              "    <tr>\n",
              "      <th>5</th>\n",
              "      <td>3226796547</td>\n",
              "      <td>40.377619</td>\n",
              "      <td>-3.776078</td>\n",
              "      <td>Farmacia - Calle Aldeanueva de La Vera 19</td>\n",
              "      <td>0.0</td>\n",
              "      <td>0.000000</td>\n",
              "      <td>53.0</td>\n",
              "      <td>0.049533</td>\n",
              "      <td>43.0</td>\n",
              "      <td>0.040187</td>\n",
              "      <td>17.0</td>\n",
              "      <td>0.015888</td>\n",
              "      <td>8.0</td>\n",
              "      <td>0.007477</td>\n",
              "      <td>3.0</td>\n",
              "      <td>0.002804</td>\n",
              "      <td>0101000020E6100000590E999768350EC051EB47D45530...</td>\n",
              "      <td></td>\n",
              "    </tr>\n",
              "  </tbody>\n",
              "</table>\n",
              "</div>"
            ],
            "text/plain": [
              "                    id        lat       lon  \\\n",
              "cartodb_id                                    \n",
              "1           3223656506  40.379016 -3.792758   \n",
              "2           3223656495  40.379927 -3.781567   \n",
              "3           3226797176  40.378108 -3.781623   \n",
              "4           3223656481  40.379808 -3.778767   \n",
              "5           3226796547  40.377619 -3.776078   \n",
              "\n",
              "                                                 name  pop_100_more_2015  \\\n",
              "cartodb_id                                                                 \n",
              "1                      Farmacia - Paseo de Lanceros 2                1.0   \n",
              "2                         Farmacia - Calle Mirabel 45                0.0   \n",
              "3                      Farmacia - Calle Serradilla 10                0.0   \n",
              "4                      Farmacia - Calle Garrovillas 6                1.0   \n",
              "5           Farmacia - Calle Aldeanueva de La Vera 19                0.0   \n",
              "\n",
              "            pop_100_more_2015_by_total_pop  pop_75_79_2015  \\\n",
              "cartodb_id                                                   \n",
              "1                                 0.001075           127.0   \n",
              "2                                 0.000000            48.0   \n",
              "3                                 0.000000            55.0   \n",
              "4                                 0.001029            40.0   \n",
              "5                                 0.000000            53.0   \n",
              "\n",
              "            pop_75_79_2015_by_total_pop  pop_80_84_2015  \\\n",
              "cartodb_id                                                \n",
              "1                              0.136559            37.0   \n",
              "2                              0.030000            52.0   \n",
              "3                              0.073925            18.0   \n",
              "4                              0.041152            37.0   \n",
              "5                              0.049533            43.0   \n",
              "\n",
              "            pop_80_84_2015_by_total_pop  pop_85_89_2015  \\\n",
              "cartodb_id                                                \n",
              "1                              0.039785            12.0   \n",
              "2                              0.032500            15.0   \n",
              "3                              0.024194             5.0   \n",
              "4                              0.038066            10.0   \n",
              "5                              0.040187            17.0   \n",
              "\n",
              "            pop_85_89_2015_by_total_pop  pop_90_94_2015  \\\n",
              "cartodb_id                                                \n",
              "1                              0.012903             2.0   \n",
              "2                              0.009375            11.0   \n",
              "3                              0.006720             5.0   \n",
              "4                              0.010288             3.0   \n",
              "5                              0.015888             8.0   \n",
              "\n",
              "            pop_90_94_2015_by_total_pop  pop_95_99_2015  \\\n",
              "cartodb_id                                                \n",
              "1                              0.002151             2.0   \n",
              "2                              0.006875             4.0   \n",
              "3                              0.006720             2.0   \n",
              "4                              0.003086             2.0   \n",
              "5                              0.007477             3.0   \n",
              "\n",
              "            pop_95_99_2015_by_total_pop  \\\n",
              "cartodb_id                                \n",
              "1                              0.002151   \n",
              "2                              0.002500   \n",
              "3                              0.002688   \n",
              "4                              0.002058   \n",
              "5                              0.002804   \n",
              "\n",
              "                                                     the_geom wheelchair  \n",
              "cartodb_id                                                                \n",
              "1           0101000020E610000092239D8191570EC07B12D89C8330...             \n",
              "2           0101000020E6100000BD169925A6400EC049B02770A130...             \n",
              "3           0101000020E61000009662A29CC3400EC04F6C4FDA6530...             \n",
              "4           0101000020E610000059C345EEE93A0EC0C120448D9D30...             \n",
              "5           0101000020E6100000590E999768350EC051EB47D45530...             "
            ]
          },
          "metadata": {
            "tags": []
          },
          "execution_count": 22
        }
      ]
    },
    {
      "metadata": {
        "id": "k6SM959cvqUD",
        "colab_type": "code",
        "colab": {
          "autoexec": {
            "startup": false,
            "wait_interval": 0
          },
          "base_uri": "https://localhost:8080/",
          "height": 493
        },
        "outputId": "09911104-1923-430a-da3a-d55ad1df9889",
        "executionInfo": {
          "status": "ok",
          "timestamp": 1527773645415,
          "user_tz": -120,
          "elapsed": 784,
          "user": {
            "displayName": "Ramiro Aznar Ballarin",
            "photoUrl": "//lh6.googleusercontent.com/-ieW6yWlqTQs/AAAAAAAAAAI/AAAAAAAAAAo/dDNG9ZEfhPI/s50-c-k-no/photo.jpg",
            "userId": "105196993695220497651"
          }
        }
      },
      "cell_type": "code",
      "source": [
        "### add new field summing all non-normalized variables\n",
        "data['elderly_ppl'] = data.iloc[:, [4,6,8,10,12,14]].sum(axis=1)\n",
        "data.head()"
      ],
      "execution_count": 23,
      "outputs": [
        {
          "output_type": "execute_result",
          "data": {
            "text/html": [
              "<div>\n",
              "<style scoped>\n",
              "    .dataframe tbody tr th:only-of-type {\n",
              "        vertical-align: middle;\n",
              "    }\n",
              "\n",
              "    .dataframe tbody tr th {\n",
              "        vertical-align: top;\n",
              "    }\n",
              "\n",
              "    .dataframe thead th {\n",
              "        text-align: right;\n",
              "    }\n",
              "</style>\n",
              "<table border=\"1\" class=\"dataframe\">\n",
              "  <thead>\n",
              "    <tr style=\"text-align: right;\">\n",
              "      <th></th>\n",
              "      <th>id</th>\n",
              "      <th>lat</th>\n",
              "      <th>lon</th>\n",
              "      <th>name</th>\n",
              "      <th>pop_100_more_2015</th>\n",
              "      <th>pop_100_more_2015_by_total_pop</th>\n",
              "      <th>pop_75_79_2015</th>\n",
              "      <th>pop_75_79_2015_by_total_pop</th>\n",
              "      <th>pop_80_84_2015</th>\n",
              "      <th>pop_80_84_2015_by_total_pop</th>\n",
              "      <th>pop_85_89_2015</th>\n",
              "      <th>pop_85_89_2015_by_total_pop</th>\n",
              "      <th>pop_90_94_2015</th>\n",
              "      <th>pop_90_94_2015_by_total_pop</th>\n",
              "      <th>pop_95_99_2015</th>\n",
              "      <th>pop_95_99_2015_by_total_pop</th>\n",
              "      <th>the_geom</th>\n",
              "      <th>wheelchair</th>\n",
              "      <th>elderly_ppl</th>\n",
              "    </tr>\n",
              "    <tr>\n",
              "      <th>cartodb_id</th>\n",
              "      <th></th>\n",
              "      <th></th>\n",
              "      <th></th>\n",
              "      <th></th>\n",
              "      <th></th>\n",
              "      <th></th>\n",
              "      <th></th>\n",
              "      <th></th>\n",
              "      <th></th>\n",
              "      <th></th>\n",
              "      <th></th>\n",
              "      <th></th>\n",
              "      <th></th>\n",
              "      <th></th>\n",
              "      <th></th>\n",
              "      <th></th>\n",
              "      <th></th>\n",
              "      <th></th>\n",
              "      <th></th>\n",
              "    </tr>\n",
              "  </thead>\n",
              "  <tbody>\n",
              "    <tr>\n",
              "      <th>1</th>\n",
              "      <td>3223656506</td>\n",
              "      <td>40.379016</td>\n",
              "      <td>-3.792758</td>\n",
              "      <td>Farmacia - Paseo de Lanceros 2</td>\n",
              "      <td>1.0</td>\n",
              "      <td>0.001075</td>\n",
              "      <td>127.0</td>\n",
              "      <td>0.136559</td>\n",
              "      <td>37.0</td>\n",
              "      <td>0.039785</td>\n",
              "      <td>12.0</td>\n",
              "      <td>0.012903</td>\n",
              "      <td>2.0</td>\n",
              "      <td>0.002151</td>\n",
              "      <td>2.0</td>\n",
              "      <td>0.002151</td>\n",
              "      <td>0101000020E610000092239D8191570EC07B12D89C8330...</td>\n",
              "      <td></td>\n",
              "      <td>181.0</td>\n",
              "    </tr>\n",
              "    <tr>\n",
              "      <th>2</th>\n",
              "      <td>3223656495</td>\n",
              "      <td>40.379927</td>\n",
              "      <td>-3.781567</td>\n",
              "      <td>Farmacia - Calle Mirabel 45</td>\n",
              "      <td>0.0</td>\n",
              "      <td>0.000000</td>\n",
              "      <td>48.0</td>\n",
              "      <td>0.030000</td>\n",
              "      <td>52.0</td>\n",
              "      <td>0.032500</td>\n",
              "      <td>15.0</td>\n",
              "      <td>0.009375</td>\n",
              "      <td>11.0</td>\n",
              "      <td>0.006875</td>\n",
              "      <td>4.0</td>\n",
              "      <td>0.002500</td>\n",
              "      <td>0101000020E6100000BD169925A6400EC049B02770A130...</td>\n",
              "      <td></td>\n",
              "      <td>130.0</td>\n",
              "    </tr>\n",
              "    <tr>\n",
              "      <th>3</th>\n",
              "      <td>3226797176</td>\n",
              "      <td>40.378108</td>\n",
              "      <td>-3.781623</td>\n",
              "      <td>Farmacia - Calle Serradilla 10</td>\n",
              "      <td>0.0</td>\n",
              "      <td>0.000000</td>\n",
              "      <td>55.0</td>\n",
              "      <td>0.073925</td>\n",
              "      <td>18.0</td>\n",
              "      <td>0.024194</td>\n",
              "      <td>5.0</td>\n",
              "      <td>0.006720</td>\n",
              "      <td>5.0</td>\n",
              "      <td>0.006720</td>\n",
              "      <td>2.0</td>\n",
              "      <td>0.002688</td>\n",
              "      <td>0101000020E61000009662A29CC3400EC04F6C4FDA6530...</td>\n",
              "      <td></td>\n",
              "      <td>85.0</td>\n",
              "    </tr>\n",
              "    <tr>\n",
              "      <th>4</th>\n",
              "      <td>3223656481</td>\n",
              "      <td>40.379808</td>\n",
              "      <td>-3.778767</td>\n",
              "      <td>Farmacia - Calle Garrovillas 6</td>\n",
              "      <td>1.0</td>\n",
              "      <td>0.001029</td>\n",
              "      <td>40.0</td>\n",
              "      <td>0.041152</td>\n",
              "      <td>37.0</td>\n",
              "      <td>0.038066</td>\n",
              "      <td>10.0</td>\n",
              "      <td>0.010288</td>\n",
              "      <td>3.0</td>\n",
              "      <td>0.003086</td>\n",
              "      <td>2.0</td>\n",
              "      <td>0.002058</td>\n",
              "      <td>0101000020E610000059C345EEE93A0EC0C120448D9D30...</td>\n",
              "      <td></td>\n",
              "      <td>93.0</td>\n",
              "    </tr>\n",
              "    <tr>\n",
              "      <th>5</th>\n",
              "      <td>3226796547</td>\n",
              "      <td>40.377619</td>\n",
              "      <td>-3.776078</td>\n",
              "      <td>Farmacia - Calle Aldeanueva de La Vera 19</td>\n",
              "      <td>0.0</td>\n",
              "      <td>0.000000</td>\n",
              "      <td>53.0</td>\n",
              "      <td>0.049533</td>\n",
              "      <td>43.0</td>\n",
              "      <td>0.040187</td>\n",
              "      <td>17.0</td>\n",
              "      <td>0.015888</td>\n",
              "      <td>8.0</td>\n",
              "      <td>0.007477</td>\n",
              "      <td>3.0</td>\n",
              "      <td>0.002804</td>\n",
              "      <td>0101000020E6100000590E999768350EC051EB47D45530...</td>\n",
              "      <td></td>\n",
              "      <td>124.0</td>\n",
              "    </tr>\n",
              "  </tbody>\n",
              "</table>\n",
              "</div>"
            ],
            "text/plain": [
              "                    id        lat       lon  \\\n",
              "cartodb_id                                    \n",
              "1           3223656506  40.379016 -3.792758   \n",
              "2           3223656495  40.379927 -3.781567   \n",
              "3           3226797176  40.378108 -3.781623   \n",
              "4           3223656481  40.379808 -3.778767   \n",
              "5           3226796547  40.377619 -3.776078   \n",
              "\n",
              "                                                 name  pop_100_more_2015  \\\n",
              "cartodb_id                                                                 \n",
              "1                      Farmacia - Paseo de Lanceros 2                1.0   \n",
              "2                         Farmacia - Calle Mirabel 45                0.0   \n",
              "3                      Farmacia - Calle Serradilla 10                0.0   \n",
              "4                      Farmacia - Calle Garrovillas 6                1.0   \n",
              "5           Farmacia - Calle Aldeanueva de La Vera 19                0.0   \n",
              "\n",
              "            pop_100_more_2015_by_total_pop  pop_75_79_2015  \\\n",
              "cartodb_id                                                   \n",
              "1                                 0.001075           127.0   \n",
              "2                                 0.000000            48.0   \n",
              "3                                 0.000000            55.0   \n",
              "4                                 0.001029            40.0   \n",
              "5                                 0.000000            53.0   \n",
              "\n",
              "            pop_75_79_2015_by_total_pop  pop_80_84_2015  \\\n",
              "cartodb_id                                                \n",
              "1                              0.136559            37.0   \n",
              "2                              0.030000            52.0   \n",
              "3                              0.073925            18.0   \n",
              "4                              0.041152            37.0   \n",
              "5                              0.049533            43.0   \n",
              "\n",
              "            pop_80_84_2015_by_total_pop  pop_85_89_2015  \\\n",
              "cartodb_id                                                \n",
              "1                              0.039785            12.0   \n",
              "2                              0.032500            15.0   \n",
              "3                              0.024194             5.0   \n",
              "4                              0.038066            10.0   \n",
              "5                              0.040187            17.0   \n",
              "\n",
              "            pop_85_89_2015_by_total_pop  pop_90_94_2015  \\\n",
              "cartodb_id                                                \n",
              "1                              0.012903             2.0   \n",
              "2                              0.009375            11.0   \n",
              "3                              0.006720             5.0   \n",
              "4                              0.010288             3.0   \n",
              "5                              0.015888             8.0   \n",
              "\n",
              "            pop_90_94_2015_by_total_pop  pop_95_99_2015  \\\n",
              "cartodb_id                                                \n",
              "1                              0.002151             2.0   \n",
              "2                              0.006875             4.0   \n",
              "3                              0.006720             2.0   \n",
              "4                              0.003086             2.0   \n",
              "5                              0.007477             3.0   \n",
              "\n",
              "            pop_95_99_2015_by_total_pop  \\\n",
              "cartodb_id                                \n",
              "1                              0.002151   \n",
              "2                              0.002500   \n",
              "3                              0.002688   \n",
              "4                              0.002058   \n",
              "5                              0.002804   \n",
              "\n",
              "                                                     the_geom wheelchair  \\\n",
              "cartodb_id                                                                 \n",
              "1           0101000020E610000092239D8191570EC07B12D89C8330...              \n",
              "2           0101000020E6100000BD169925A6400EC049B02770A130...              \n",
              "3           0101000020E61000009662A29CC3400EC04F6C4FDA6530...              \n",
              "4           0101000020E610000059C345EEE93A0EC0C120448D9D30...              \n",
              "5           0101000020E6100000590E999768350EC051EB47D45530...              \n",
              "\n",
              "            elderly_ppl  \n",
              "cartodb_id               \n",
              "1                 181.0  \n",
              "2                 130.0  \n",
              "3                  85.0  \n",
              "4                  93.0  \n",
              "5                 124.0  "
            ]
          },
          "metadata": {
            "tags": []
          },
          "execution_count": 23
        }
      ]
    },
    {
      "metadata": {
        "id": "yrYGHJsH5ttB",
        "colab_type": "code",
        "colab": {
          "autoexec": {
            "startup": false,
            "wait_interval": 0
          },
          "base_uri": "https://localhost:8080/",
          "height": 235
        },
        "outputId": "423387a9-3e22-4558-ebae-b702b58e66fa",
        "executionInfo": {
          "status": "ok",
          "timestamp": 1527773646211,
          "user_tz": -120,
          "elapsed": 473,
          "user": {
            "displayName": "Ramiro Aznar Ballarin",
            "photoUrl": "//lh6.googleusercontent.com/-ieW6yWlqTQs/AAAAAAAAAAI/AAAAAAAAAAo/dDNG9ZEfhPI/s50-c-k-no/photo.jpg",
            "userId": "105196993695220497651"
          }
        }
      },
      "cell_type": "code",
      "source": [
        "### create new df filtering unnecessary columns\n",
        "new_data = data.iloc[:, [1,2,3,16,17,18]]\n",
        "new_data.head()"
      ],
      "execution_count": 24,
      "outputs": [
        {
          "output_type": "execute_result",
          "data": {
            "text/html": [
              "<div>\n",
              "<style scoped>\n",
              "    .dataframe tbody tr th:only-of-type {\n",
              "        vertical-align: middle;\n",
              "    }\n",
              "\n",
              "    .dataframe tbody tr th {\n",
              "        vertical-align: top;\n",
              "    }\n",
              "\n",
              "    .dataframe thead th {\n",
              "        text-align: right;\n",
              "    }\n",
              "</style>\n",
              "<table border=\"1\" class=\"dataframe\">\n",
              "  <thead>\n",
              "    <tr style=\"text-align: right;\">\n",
              "      <th></th>\n",
              "      <th>lat</th>\n",
              "      <th>lon</th>\n",
              "      <th>name</th>\n",
              "      <th>the_geom</th>\n",
              "      <th>wheelchair</th>\n",
              "      <th>elderly_ppl</th>\n",
              "    </tr>\n",
              "    <tr>\n",
              "      <th>cartodb_id</th>\n",
              "      <th></th>\n",
              "      <th></th>\n",
              "      <th></th>\n",
              "      <th></th>\n",
              "      <th></th>\n",
              "      <th></th>\n",
              "    </tr>\n",
              "  </thead>\n",
              "  <tbody>\n",
              "    <tr>\n",
              "      <th>1</th>\n",
              "      <td>40.379016</td>\n",
              "      <td>-3.792758</td>\n",
              "      <td>Farmacia - Paseo de Lanceros 2</td>\n",
              "      <td>0101000020E610000092239D8191570EC07B12D89C8330...</td>\n",
              "      <td></td>\n",
              "      <td>181.0</td>\n",
              "    </tr>\n",
              "    <tr>\n",
              "      <th>2</th>\n",
              "      <td>40.379927</td>\n",
              "      <td>-3.781567</td>\n",
              "      <td>Farmacia - Calle Mirabel 45</td>\n",
              "      <td>0101000020E6100000BD169925A6400EC049B02770A130...</td>\n",
              "      <td></td>\n",
              "      <td>130.0</td>\n",
              "    </tr>\n",
              "    <tr>\n",
              "      <th>3</th>\n",
              "      <td>40.378108</td>\n",
              "      <td>-3.781623</td>\n",
              "      <td>Farmacia - Calle Serradilla 10</td>\n",
              "      <td>0101000020E61000009662A29CC3400EC04F6C4FDA6530...</td>\n",
              "      <td></td>\n",
              "      <td>85.0</td>\n",
              "    </tr>\n",
              "    <tr>\n",
              "      <th>4</th>\n",
              "      <td>40.379808</td>\n",
              "      <td>-3.778767</td>\n",
              "      <td>Farmacia - Calle Garrovillas 6</td>\n",
              "      <td>0101000020E610000059C345EEE93A0EC0C120448D9D30...</td>\n",
              "      <td></td>\n",
              "      <td>93.0</td>\n",
              "    </tr>\n",
              "    <tr>\n",
              "      <th>5</th>\n",
              "      <td>40.377619</td>\n",
              "      <td>-3.776078</td>\n",
              "      <td>Farmacia - Calle Aldeanueva de La Vera 19</td>\n",
              "      <td>0101000020E6100000590E999768350EC051EB47D45530...</td>\n",
              "      <td></td>\n",
              "      <td>124.0</td>\n",
              "    </tr>\n",
              "  </tbody>\n",
              "</table>\n",
              "</div>"
            ],
            "text/plain": [
              "                  lat       lon                                       name  \\\n",
              "cartodb_id                                                                   \n",
              "1           40.379016 -3.792758             Farmacia - Paseo de Lanceros 2   \n",
              "2           40.379927 -3.781567                Farmacia - Calle Mirabel 45   \n",
              "3           40.378108 -3.781623             Farmacia - Calle Serradilla 10   \n",
              "4           40.379808 -3.778767             Farmacia - Calle Garrovillas 6   \n",
              "5           40.377619 -3.776078  Farmacia - Calle Aldeanueva de La Vera 19   \n",
              "\n",
              "                                                     the_geom wheelchair  \\\n",
              "cartodb_id                                                                 \n",
              "1           0101000020E610000092239D8191570EC07B12D89C8330...              \n",
              "2           0101000020E6100000BD169925A6400EC049B02770A130...              \n",
              "3           0101000020E61000009662A29CC3400EC04F6C4FDA6530...              \n",
              "4           0101000020E610000059C345EEE93A0EC0C120448D9D30...              \n",
              "5           0101000020E6100000590E999768350EC051EB47D45530...              \n",
              "\n",
              "            elderly_ppl  \n",
              "cartodb_id               \n",
              "1                 181.0  \n",
              "2                 130.0  \n",
              "3                  85.0  \n",
              "4                  93.0  \n",
              "5                 124.0  "
            ]
          },
          "metadata": {
            "tags": []
          },
          "execution_count": 24
        }
      ]
    },
    {
      "metadata": {
        "id": "WikTxVIa8BWT",
        "colab_type": "code",
        "colab": {
          "autoexec": {
            "startup": false,
            "wait_interval": 0
          },
          "base_uri": "https://localhost:8080/",
          "height": 88
        },
        "outputId": "cca05986-fcd6-4dd4-8dcf-946ceecc70d8",
        "executionInfo": {
          "status": "ok",
          "timestamp": 1527773674679,
          "user_tz": -120,
          "elapsed": 28310,
          "user": {
            "displayName": "Ramiro Aznar Ballarin",
            "photoUrl": "//lh6.googleusercontent.com/-ieW6yWlqTQs/AAAAAAAAAAI/AAAAAAAAAAo/dDNG9ZEfhPI/s50-c-k-no/photo.jpg",
            "userId": "105196993695220497651"
          }
        }
      },
      "cell_type": "code",
      "source": [
        "### import new table with DO measures into CARTO\n",
        "do_table = 'do_' + table\n",
        "cc.write(new_data, do_table, overwrite=True)"
      ],
      "execution_count": 25,
      "outputs": [
        {
          "output_type": "stream",
          "text": [
            "/usr/local/lib/python3.6/dist-packages/carto/resources.py:90: FutureWarning: This is part of a non-public CARTO API and may change in the future. Take this into account if you are using this in a production environment\n",
            "  warnings.warn('This is part of a non-public CARTO API and may change in the future. Take this into account if you are using this in a production environment', FutureWarning)\n"
          ],
          "name": "stderr"
        },
        {
          "output_type": "stream",
          "text": [
            "Table successfully written to CARTO: https://ramirocartodb.carto.com/dataset/do_pharmacy_table\n"
          ],
          "name": "stdout"
        }
      ]
    },
    {
      "metadata": {
        "id": "wWMDZDv78eHg",
        "colab_type": "code",
        "colab": {
          "autoexec": {
            "startup": false,
            "wait_interval": 0
          },
          "base_uri": "https://localhost:8080/",
          "height": 425
        },
        "outputId": "d0586c20-66fb-464f-801f-462b8d16adb2",
        "executionInfo": {
          "status": "ok",
          "timestamp": 1527773675500,
          "user_tz": -120,
          "elapsed": 783,
          "user": {
            "displayName": "Ramiro Aznar Ballarin",
            "photoUrl": "//lh6.googleusercontent.com/-ieW6yWlqTQs/AAAAAAAAAAI/AAAAAAAAAAo/dDNG9ZEfhPI/s50-c-k-no/photo.jpg",
            "userId": "105196993695220497651"
          }
        }
      },
      "cell_type": "code",
      "source": [
        "## style layer based on the number of elderly people\n",
        "cc.map(layers=[BaseMap('dark'), \n",
        "               Layer(do_table,\n",
        "               size=6,\n",
        "               color={'column': 'elderly_ppl',\n",
        "                      'scheme': styling.sunset(7)})])"
      ],
      "execution_count": 26,
      "outputs": [
        {
          "output_type": "execute_result",
          "data": {
            "text/html": [
              "<iframe srcdoc=\"<!DOCTYPE html>\n",
              "<html>\n",
              "  <head>\n",
              "    <title>Carto</title>\n",
              "    <meta name='viewport' content='initial-scale=1.0, user-scalable=no' />\n",
              "    <meta http-equiv='content-type' content='text/html; charset=UTF-8' />\n",
              "    <link rel='shortcut icon' href='http://cartodb.com/assets/favicon.ico' />\n",
              "\n",
              "    <style>\n",
              "     html, body, #map {\n",
              "       height: 100%;\n",
              "       padding: 0;\n",
              "       margin: 0;\n",
              "     }\n",
              "     #zoom-center {\n",
              "       position: absolute;\n",
              "       right: 0;\n",
              "       top: 0;\n",
              "       background-color: rgba(255, 255, 255, 0.7);\n",
              "       width: 240px;\n",
              "       z-index: 100;\n",
              "       padding: 4px;\n",
              "     }\n",
              "    </style>\n",
              "\n",
              "    <link rel='stylesheet' href='https://cartodb-libs.global.ssl.fastly.net/cartodb.js/v3/3.15/themes/css/cartodb.css' />\n",
              "  </head>\n",
              "  <body>\n",
              "    <div id='zoom-center'>\n",
              "      zoom=<span id='zoom'>4</span>,\n",
              "      lng=<span id='lon'>No data</span>, lat=<span id='lat'>No data</span>\n",
              "    </div>\n",
              "    <div id='map'></div>\n",
              "    <script src='https://cartodb-libs.global.ssl.fastly.net/cartodb.js/v3/3.15/cartodb.js'></script>\n",
              "\n",
              "    <script>\n",
              "     const config  = {&quot;user_name&quot;: &quot;ramirocartodb&quot;, &quot;maps_api_template&quot;: &quot;https://ramirocartodb.carto.com&quot;, &quot;sql_api_template&quot;: &quot;https://ramirocartodb.carto.com&quot;, &quot;tiler_protocol&quot;: &quot;https&quot;, &quot;tiler_domain&quot;: &quot;carto.com&quot;, &quot;tiler_port&quot;: &quot;80&quot;, &quot;type&quot;: &quot;namedmap&quot;, &quot;named_map&quot;: {&quot;name&quot;: &quot;cartoframes_ver20170406_layers1_time0_baseid1_labels0_zoom0&quot;, &quot;params&quot;: {&quot;basemap_url&quot;: &quot;https://{s}.basemaps.cartocdn.com/rastertiles/dark_all/{z}/{x}/{y}.png&quot;, &quot;cartocss_0&quot;: &quot;#layer {  marker-width: 6; marker-fill: ramp([elderly_ppl], cartocolor(Sunset), quantiles(7), >); marker-fill-opacity: 0.9; marker-allow-overlap: true; marker-line-width: 0.5; marker-line-color: #000; marker-line-opacity: 1;}#layer[elderly_ppl = null] {  marker-fill: #ccc;}&quot;, &quot;sql_0&quot;: &quot;SELECT * FROM do_pharmacy_table&quot;, &quot;west&quot;: -3.8366041, &quot;south&quot;: 40.3398248, &quot;east&quot;: -3.5688266, &quot;north&quot;: 40.5455503}}};\n",
              "     const bounds  = [[40.5455503, -3.5688266], [40.3398248, -3.8366041]];\n",
              "     const options = {&quot;filter&quot;: [&quot;mapnik&quot;, &quot;torque&quot;], &quot;https&quot;: true};\n",
              "     var labels_url = '';\n",
              "\n",
              "     const adjustLongitude = (lng) => (\n",
              "       lng - ((Math.ceil((lng + 180) / 360) - 1) * 360)\n",
              "     );\n",
              "     const map = L.map('map', {\n",
              "       zoom: 3,\n",
              "       center: [0, 0],\n",
              "     });\n",
              "\n",
              "     if (L.Browser.retina) {\n",
              "         var basemap = config.named_map.params.basemap_url.replace('.png', '@2x.png');\n",
              "         labels_url = labels_url.replace('.png', '@2x.png');\n",
              "     } else {\n",
              "         var basemap = config.named_map.params.basemap_url;\n",
              "     }\n",
              "     L.tileLayer(basemap, {\n",
              "         attribution: &quot;&copy; <a href=\\&quot;http://www.openstreetmap.org/copyright\\&quot;>OpenStreetMap</a>&quot;\n",
              "     }).addTo(map);\n",
              "\n",
              "     const updateMapInfo = () => {\n",
              "       $('#zoom').text(map.getZoom());\n",
              "       $('#lat').text(map.getCenter().lat.toFixed(4));\n",
              "       $('#lon').text(adjustLongitude(map.getCenter().lng).toFixed(4));\n",
              "     };\n",
              "\n",
              "     cartodb.createLayer(map, config, options)\n",
              "            .addTo(map)\n",
              "            .done((layer) => {\n",
              "                // add labels layer\n",
              "                if (labels_url) {\n",
              "                    var topPane = L.DomUtil.create('div', 'leaflet-top-pane', map.getPanes().mapPane);\n",
              "                    var topLayer = new L.tileLayer(labels_url).addTo(map);\n",
              "                    topPane.appendChild(topLayer.getContainer());\n",
              "                    topLayer.setZIndex(7);\n",
              "                 }\n",
              "\n",
              "                // fit map to bounds\n",
              "                if (bounds.length) {\n",
              "                  map.fitBounds(bounds);\n",
              "                }\n",
              "\n",
              "                updateMapInfo();\n",
              "                map.on('move', () => {\n",
              "                  updateMapInfo();\n",
              "                });\n",
              "            })\n",
              "            .error((err) => {\n",
              "              console.log('ERROR: ', err);\n",
              "            });\n",
              "    </script>\n",
              "\n",
              "  </body>\n",
              "</html>\n",
              "\" width=800 height=400>  Preview image: <img src=\"https://ramirocartodb.carto.com/api/v1/map/static/named/cartoframes_ver20170406_layers1_time0_baseid1_labels0_zoom0/800/400.png?config=%7B%22basemap_url%22%3A+%22https%3A%2F%2F%7Bs%7D.basemaps.cartocdn.com%2Frastertiles%2Fdark_all%2F%7Bz%7D%2F%7Bx%7D%2F%7By%7D.png%22%2C+%22cartocss_0%22%3A+%22%23layer+%7B++marker-width%3A+6%3B+marker-fill%3A+ramp%28%5Belderly_ppl%5D%2C+cartocolor%28Sunset%29%2C+quantiles%287%29%2C+%3E%29%3B+marker-fill-opacity%3A+0.9%3B+marker-allow-overlap%3A+true%3B+marker-line-width%3A+0.5%3B+marker-line-color%3A+%23000%3B+marker-line-opacity%3A+1%3B%7D%23layer%5Belderly_ppl+%3D+null%5D+%7B++marker-fill%3A+%23ccc%3B%7D%22%2C+%22sql_0%22%3A+%22SELECT+%2A+FROM+do_pharmacy_table%22%7D&anti_cache=0.7101045452669071&bbox=-3.8366041%2C40.3398248%2C-3.5688266%2C40.5455503\" /></iframe>"
            ],
            "text/plain": [
              "<IPython.core.display.HTML object>"
            ]
          },
          "metadata": {
            "tags": []
          },
          "execution_count": 26
        }
      ]
    }
  ]
}